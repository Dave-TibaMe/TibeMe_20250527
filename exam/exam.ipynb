{
 "cells": [
  {
   "cell_type": "code",
   "execution_count": 97,
   "id": "b8089f83",
   "metadata": {},
   "outputs": [
    {
     "name": "stdout",
     "output_type": "stream",
     "text": [
      "Error: The file 'dsds' was not found. Please check the file name and try again.\n"
     ]
    },
    {
     "ename": "SystemExit",
     "evalue": "1",
     "output_type": "error",
     "traceback": [
      "An exception has occurred, use %tb to see the full traceback.\n",
      "\u001b[31mSystemExit\u001b[39m\u001b[31m:\u001b[39m 1\n"
     ]
    },
    {
     "name": "stderr",
     "output_type": "stream",
     "text": [
      "C:\\Users\\vboxuser\\AppData\\Roaming\\Python\\Python313\\site-packages\\IPython\\core\\interactiveshell.py:3678: UserWarning: To exit: use 'exit', 'quit', or Ctrl-D.\n",
      "  warn(\"To exit: use 'exit', 'quit', or Ctrl-D.\", stacklevel=1)\n"
     ]
    }
   ],
   "source": [
    "import json\n",
    "from pprint import pprint\n",
    "import sys\n",
    "\n",
    "#log_file = 'serviceslogs.json'\n",
    "#input_service_name='myca'\n",
    "\n",
    "log_file =  input('Please enter the log file name (e.g. serviceslogs.json):')\n",
    "input_service_name =  input('Please enter the service name (e.g. myca), or leave blank for all):')\n",
    "if not input_service_name:  \n",
    "    input_service_name = None\n",
    "\n",
    "def open_file(input_file):\n",
    "    try:\n",
    "        with open(input_file, encoding='utf-8') as f:\n",
    "            return json.load(f)\n",
    "    except FileNotFoundError:\n",
    "        print(f\"Error: The file '{input_file}' was not found. Please check the file name and try again.\")\n",
    "        sys.exit(1)\n",
    "    \n",
    "def parse_file(input_file):\n",
    "    set_service_name = set()\n",
    "    set_severity = set()\n",
    "    list_service_severity = []\n",
    "\n",
    "    for entry in input_file:\n",
    "        if \"resource\" in entry and \"labels\" in entry[\"resource\"] and \"service_name\" in entry[\"resource\"][\"labels\"]:\n",
    "            service_name = entry[\"resource\"][\"labels\"][\"service_name\"]\n",
    "            if \"severity\" in entry:\n",
    "                severity = entry[\"severity\"]\n",
    "            else:\n",
    "                severity = None\n",
    "            if service_name != '':\n",
    "                set_service_name.add(service_name)\n",
    "            if severity:\n",
    "                set_severity.add(severity)\n",
    "\n",
    "            found = False\n",
    "            for record in list_service_severity:\n",
    "                if record[\"service_name\"] == service_name and record[\"severity\"] == severity:\n",
    "                    record[\"count\"] += 1\n",
    "                    found = True\n",
    "                    break\n",
    "            if not found and severity and service_name != '':\n",
    "                list_service_severity.append({\"service_name\": service_name, \"severity\": severity, \"count\": 1})\n",
    "    return set_service_name, set_severity, list_service_severity\n",
    "\n",
    "def generate_output(set_service_name, set_severity, list_service_severity, given_service_name=None):\n",
    "    max_service_name_length = max(len(name) for name in set_service_name)\n",
    "    max_count = max(record[\"count\"] for record in list_service_severity)\n",
    "    max_count_length = len(str(max_count))\n",
    "    output_lines = []\n",
    "    if given_service_name:\n",
    "        set_service_name = {given_service_name}\n",
    "\n",
    "    for service_name in set_service_name:\n",
    "        output = f'{service_name:<{max_service_name_length}}' \n",
    "        sorted_severities = sorted(set_severity)\n",
    "        for i, severity in enumerate(sorted_severities):\n",
    "            #print(list_service_severity[service_name][severity])\n",
    "            for record in list_service_severity:\n",
    "                if record[\"service_name\"] == service_name and record[\"severity\"] == severity:\n",
    "                    count = record[\"count\"]\n",
    "                    break\n",
    "                else:\n",
    "                    count = 0\n",
    "            output += f' {severity}: {count:{max_count_length}d}'\n",
    "            if i < len(sorted_severities) - 1:\n",
    "                output += '/'\n",
    "        output_lines.append(output)\n",
    "    return '\\n'.join(output_lines)\n",
    "\n",
    "\n",
    "json_log = open_file(log_file)\n",
    "set_service_name, set_severity, list_service_severity = parse_file(json_log)  \n",
    "output_result  = generate_output(set_service_name, set_severity, list_service_severity, given_service_name=input_service_name)\n",
    "\n",
    "print('--------------------------------OUTPUT--------------------------------')\n",
    "print(output_result)\n"
   ]
  },
  {
   "cell_type": "code",
   "execution_count": 6,
   "id": "2fca53fe",
   "metadata": {},
   "outputs": [
    {
     "name": "stdout",
     "output_type": "stream",
     "text": [
      "解碼成功，輸出二進制數據： b'p\\x8c\\xf2\\x95;\\x9cp/\\xbaz\\xa5\\x96\\xc2\\xdb\\xca\\x03v\\r\\x12\\xb6c\\xa6\\x13\\xa3l\\x1e:\\x8f\\x88X\\x111\\xe7\\x9d8\\xb1n\\t\\x16\\xfc\\x96c\\xa2\\xcdv<\\xefw\\xc4\\xabE\\xb6\\x17O!4\\x8f\\xf8\\x19\\x8cWdv\\xe2\\x1bk\\xd0\\x83c\\x10_P\\x9a\\xb1\\xcb\\xa5\\xbb\\xebY\\xc7fU\\x9c<h\\x7f\\x10\"\\xcec\\xd3\\x0f\\xbcl\\xa3\\x92\\x9c\\xee\\xccL\\xb2\\xfd\\xeaOM\\xcd\\xae\\xc0\\xa4\\x96x\\xb3,Q\\x05\\xb2\\xba\\x80l\\xa5\\x8c\\xd3\\xa7\\x1bQ%\\xfd\\xc6'\n",
      "二進制數據已保存到 output.bin 文件\n"
     ]
    }
   ],
   "source": [
    "import base64\n",
    "\n",
    "# URL 安全 Base64 字串\n",
    "encoded = \"cIzylTuccC-6eqWWwtvKA3YNErZjphOjbB46j4hYETHnnTixbgkW_JZjos12PO93xKtFthdPITSP-BmMV2R24htr0INjEF9QmrHLpbvrWcdmVZw8aH8QIs5j0w-8bKOSnO7MTLL96k9Nza7ApJZ4syxRBbK6gGyljNOnG1El_cY\"\n",
    "\n",
    "# URL 安全 Base64 解碼\n",
    "try:\n",
    "    # 解碼 Base64 字串\n",
    "    decoded = base64.urlsafe_b64decode(encoded + \"==\")  # 補齊等號\n",
    "    print(\"解碼成功，輸出二進制數據：\", decoded)\n",
    "    \n",
    "    # 將二進制數據保存到文件\n",
    "    with open(\"output.bin\", \"wb\") as file:\n",
    "        file.write(decoded)\n",
    "    print(\"二進制數據已保存到 output.bin 文件\")\n",
    "except Exception as e:\n",
    "    print(f\"解碼失敗: {e}\")"
   ]
  }
 ],
 "metadata": {
  "kernelspec": {
   "display_name": "Python 3",
   "language": "python",
   "name": "python3"
  },
  "language_info": {
   "codemirror_mode": {
    "name": "ipython",
    "version": 3
   },
   "file_extension": ".py",
   "mimetype": "text/x-python",
   "name": "python",
   "nbconvert_exporter": "python",
   "pygments_lexer": "ipython3",
   "version": "3.13.0"
  }
 },
 "nbformat": 4,
 "nbformat_minor": 5
}
