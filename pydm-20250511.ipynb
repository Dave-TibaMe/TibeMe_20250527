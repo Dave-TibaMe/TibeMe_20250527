{
 "cells": [
  {
   "attachments": {},
   "cell_type": "markdown",
   "id": "902c4341-72e7-4df6-87ad-82b163d2aa96",
   "metadata": {},
   "source": [
    "# Python Development More <font size=4>© Enos Chou</font>"
   ]
  },
  {
   "cell_type": "markdown",
   "id": "fce869f3-5c7a-49a1-a78f-969633d52bcc",
   "metadata": {},
   "source": [
    "<b>Cases</b><br>\n",
    "<ol>\n",
    "    <li><a href=\"#pdt\">資料結構設計與運用--學生資料儲存、維護，與計算</a></li>\n",
    "    <li><a href=\"#if\">基礎判斷式--猜拳</a></li>\n",
    "    <li><a href=\"#nl\">基礎巢狀迴圈--完美列印九九乘法表</a></li>\n",
    "    <li><a href=\"#flag\">旗標應用--Missing Number</a></li>\n",
    "    <li><a href=\"#nl2\">巢狀迴圈搭配雙層 List 應用--Valid Sudoku</a></li>\n",
    "    <li><a href=\"#dil\">資料結構設計、判斷式、迴圈綜合應用--大老二一決勝負</a></li>\n",
    "    <li><a href=\"#ila\">判斷式、迴圈、演算法綜合應用--成績指標</a></li>\n",
    "    <li><a href=\"#pa\">效率衡量--泡泡排序</a></li>\n",
    "    <li><a href=\"#fh\">檔案處理與分析--Log 分析</a></li>\n",
    "    <li><a href=\"#csv\">檔案處理與分析--CSV 分析</a></li>\n",
    "    <li><a href=\"#dfh\">目錄與檔案處理--計算樹木</a></li>\n",
    "    <li><a href=\"#ftd\">容錯設計--猜數字</a></li>\n",
    "    <li><a href=\"#cd\">類別設計--大老二莊家</a></li>\n",
    "    <li><a href=\"#alg\">演算法演練--Move Zeros</a></li>\n",
    "    <li><a href=\"#alg2\">演算法挑戰--Best Time to Buy and Sell Stock</a></li>\n",
    "</ol>"
   ]
  },
  {
   "cell_type": "markdown",
   "id": "795fc016-d9bc-4f77-99dc-1f9b935c0687",
   "metadata": {},
   "source": [
    "## <div id=\"pdt\"><font color=\"blue\">1. 資料結構設計與運用</font></div>"
   ]
  },
  {
   "cell_type": "markdown",
   "id": "2f51f2a9-13d4-409f-8f53-3d4440f06486",
   "metadata": {},
   "source": [
    "## <font color=\"brown\">學生資料儲存、維護，與計算</font>\n",
    "\n",
    "<b>Tech</b>\n",
    "<ol>\n",
    "    <li>Composite data types</li>\n",
    "    <li>Operators</li>\n",
    "    <li>Loop</li>\n",
    "</ol>\n",
    "\n",
    "<b>Tasks</b>\n",
    "<ol>\n",
    "    <li>儲存下列 10 位學生資料，並印出 Bill 的身高體重</li>\n",
    "        <tt><font color='blue'>Bill's height: 168cm, weight: 70kg</font></tt>\n",
    "    <li>計算每位學生的 BMI 並儲存至上述資料結構</li>\n",
    "    <li>計算並輸出所有學生的 平均 BMI、BMI 變異數、BMI 標準差</li>\n",
    "        <tt><font color='blue'>\n",
    "        mean bmi is 23.238 kg/m²<br>\n",
    "        var bmi is 4.158 (kg/m²)²<br>\n",
    "        std bmi is 2.039 kg/m²<br>\n",
    "        </font></tt>\n",
    "    </li>\n",
    "</ol>\n",
    "\n",
    "<b>Data</b>\n",
    "\n",
    "<tt>\n",
    "David&nbsp;&nbsp;&nbsp;&nbsp;180cm 85kg<br>\n",
    "John&nbsp;&nbsp;&nbsp;&nbsp;&nbsp;172cm 72kg<br>\n",
    "Mary&nbsp;&nbsp;&nbsp;&nbsp;&nbsp;158cm 51kg<br>\n",
    "Lora&nbsp;&nbsp;&nbsp;&nbsp;&nbsp;160cm 49kg<br>\n",
    "Bill&nbsp;&nbsp;&nbsp;&nbsp;&nbsp;168cm 70kg<br>\n",
    "Elsa&nbsp;&nbsp;&nbsp;&nbsp;&nbsp;154cm 55kg<br>\n",
    "Golden&nbsp;&nbsp;&nbsp;176cm 69kg<br>\n",
    "Jason&nbsp;&nbsp;&nbsp;&nbsp;182cm 77kg<br>\n",
    "Larry&nbsp;&nbsp;&nbsp;&nbsp;160cm 64kg<br>\n",
    "Michelle 155cm 57kg<br>\n",
    "</tt><br>\n",
    "\n",
    "<b>Hints</b>\n",
    "<ol>\n",
    "    <li><font color=\"green\">dict</font>-oriented design\n",
    "    <li><font color=\"green\">list</font>-oriented design\n",
    "</ol>"
   ]
  },
  {
   "cell_type": "code",
   "execution_count": 24,
   "id": "22df4d98-8f87-438c-8f4a-9fe78db61c18",
   "metadata": {},
   "outputs": [
    {
     "name": "stdout",
     "output_type": "stream",
     "text": [
      "Bill\n",
      "168\n",
      "70\n",
      "David\n",
      "26.234567901234566\n",
      "John\n",
      "24.337479718766904\n",
      "Bill\n",
      "24.801587301587304\n"
     ]
    }
   ],
   "source": [
    "dict_David = {'name':'David', 'height':180, 'weight':85}\n",
    "dict_John = {'name':'John', 'height':172, 'weight':72}\n",
    "dict_Bill = {'name':'Bill', 'height':168, 'weight':70}\n",
    "disc_list = []\n",
    "disc_list.append(dict_David)\n",
    "disc_list.append(dict_John)\n",
    "disc_list.append(dict_Bill)\n",
    "\n",
    "name_to_find = \"Bill\"\n",
    "\n",
    "for item in disc_list:\n",
    "    if item['name'] == name_to_find:\n",
    "        my_item = item\n",
    "        break\n",
    "else:\n",
    "    my_item = None\n",
    "\n",
    "print(my_item['name'])\n",
    "print(my_item['height'])\n",
    "print(my_item['weight'])\n",
    "\n",
    "\n",
    "for item in disc_list:\n",
    "    bmi = item['weight'] / ((item['height']/100) ** 2)\n",
    "    print(item['name'])\n",
    "    print(bmi)\n",
    "\n",
    "\n"
   ]
  },
  {
   "cell_type": "code",
   "execution_count": 25,
   "id": "896b66fb-c0e0-47fd-8265-5b5821fa7287",
   "metadata": {},
   "outputs": [
    {
     "name": "stdout",
     "output_type": "stream",
     "text": [
      "{'Bill': {'h': 168, 'w': 50, 'bmi': 17.71541950113379}, 'Davis': {'h': 172, 'w': 80, 'bmi': 27.041644131963228}, 'Zoe': {'h': 158, 'w': 60, 'bmi': 24.034609838166958}}\n",
      "22.930557823754658\n",
      "mean1:  22.930557823754658\n",
      "bmi_list:  [17.71541950113379, 27.041644131963228, 24.034609838166958]\n",
      "mean2:  22.930557823754658\n"
     ]
    }
   ],
   "source": [
    "d = {\n",
    "    'Bill': {'h': 168, 'w': 50},\n",
    "    'Davis':  {'h': 172, 'w': 80},\n",
    "    'Zoe':  {'h': 158, 'w': 60}\n",
    "}\n",
    "\n",
    "#print(d['Bill']['h'])\n",
    "###print(d['Elsa']) #run time error\n",
    "#print(d.get('Elsa'))\n",
    "#print(d.get('Elsa','exception default value'))\n",
    "\n",
    "d\n",
    "for name in d:\n",
    "    w = d[name]['w']\n",
    "    h = d[name]['h']\n",
    "    bmi = w/ ((h/100) ** 2)\n",
    "    d[name]['bmi'] = bmi\n",
    "\n",
    "print(d)\n",
    "\n",
    "total = 0\n",
    "for name in d:\n",
    "    #print(d[name]['bmi'])\n",
    "    total += d[name]['bmi']\n",
    "mean = total / len(d)\n",
    "print(mean)\n",
    "\n",
    "bmi_list = []\n",
    "for name in d:\n",
    "    bmi_list.append(d[name]['bmi'])\n",
    "mean = sum(bmi_list)/len(d)\n",
    "print('mean1: ',mean)\n",
    "\n",
    "bmi_list= [d[name]['bmi'] for name in d]\n",
    "print('bmi_list: ',bmi_list)\n",
    "\n",
    "mean = sum([d[name]['bmi'] for name in d])/len(d)\n",
    "print('mean2: ',mean)\n",
    "\n",
    "\n",
    "\n"
   ]
  },
  {
   "cell_type": "code",
   "execution_count": 26,
   "id": "c9ae22a5-1417-4e09-98ef-4f39f04856dc",
   "metadata": {},
   "outputs": [
    {
     "name": "stdout",
     "output_type": "stream",
     "text": [
      "168\n"
     ]
    }
   ],
   "source": [
    "e = [{'n':'Bill', 'h': 168, 'w': 50},\n",
    "     {'n':'Davis', 'h': 180, 'w': 85}\n",
    "    ]\n",
    "for item in e:\n",
    "    if item['n'] == 'Bill':\n",
    "        print(item['h'])"
   ]
  },
  {
   "cell_type": "code",
   "execution_count": 27,
   "id": "d7bc9372-0866-42b3-9829-0b463f6174d3",
   "metadata": {},
   "outputs": [
    {
     "name": "stdout",
     "output_type": "stream",
     "text": [
      "168\n",
      "60\n",
      "'Dave' is not in list\n"
     ]
    }
   ],
   "source": [
    "n = ['Bill', 'Elsa', 'Ana']\n",
    "h = [168, 158, 133]\n",
    "w = [60, 50, 20]\n",
    "\n",
    "# 找出 Bill 的位置（索引）\n",
    "i = n.index('Bill')\n",
    "\n",
    "# 取得對應的身高和體重\n",
    "bill_height = h[i]\n",
    "bill_weight = w[i]\n",
    "\n",
    "print(bill_height)\n",
    "print(bill_weight)\n",
    "\n",
    "\n",
    "try:\n",
    "    i = n.index('Dave')\n",
    "except Exception as e:\n",
    "    print(e)\n"
   ]
  },
  {
   "cell_type": "markdown",
   "id": "8cc5ed4a-0874-4d26-a8f1-aa0951ba54c1",
   "metadata": {},
   "source": [
    "## <div id=\"if\"><font color=\"blue\">2. 基礎判斷式</font></div>"
   ]
  },
  {
   "cell_type": "code",
   "execution_count": null,
   "id": "11a6a743-711e-46c0-8bcb-9557282025e5",
   "metadata": {},
   "outputs": [],
   "source": []
  },
  {
   "cell_type": "markdown",
   "id": "415417e9-778d-471b-98a2-cffa93502219",
   "metadata": {},
   "source": [
    "## <font color=\"brown\">猜拳</font>\n",
    "\n",
    "<b>Tech</b>\n",
    "<ol>\n",
    "    <li>if-elif-else</li>\n",
    "    <li>random</li>\n",
    "    <li>input</li>\n",
    "</ol>\n",
    "\n",
    "<b>Tasks</b>\n",
    "<ol>\n",
    "    <li>實作猜拳遊戲，讓用戶跟電腦猜拳</li>\n",
    "</ol>"
   ]
  },
  {
   "cell_type": "code",
   "execution_count": null,
   "id": "543913cc-2c23-464e-9a36-71cd31c9fb52",
   "metadata": {},
   "outputs": [],
   "source": []
  },
  {
   "cell_type": "code",
   "execution_count": 28,
   "id": "f07255fe-2a02-4f45-86c3-e00b72c47847",
   "metadata": {},
   "outputs": [
    {
     "name": "stdout",
     "output_type": "stream",
     "text": [
      "你: {''}\n",
      "電腦： {'石頭'}\n",
      "你輸了！\n",
      "你贏 0 次\n",
      "電腦贏 1 次\n",
      "你: {'d'}\n",
      "電腦： {'剪刀'}\n",
      "你輸了！\n",
      "你贏 0 次\n",
      "電腦贏 2 次\n"
     ]
    }
   ],
   "source": [
    "import random\n",
    "\n",
    "\n",
    "player_win = 0\n",
    "computer_win = 0\n",
    "\n",
    "while player_win < 2 and computer_win < 2:\n",
    "        \n",
    "    player = input(\"請出拳（剪刀、石頭、布）：\")\n",
    "    computer = random.choice( ['剪刀', '石頭', '布'] )\n",
    "    \n",
    "    print('你:', {player})\n",
    "    print('電腦：', {computer})\n",
    "    \n",
    "    if player == computer:\n",
    "        print(\"平手！\")\n",
    "    elif (player == '剪刀' and computer == '布') or \\\n",
    "         (player == '石頭' and computer == '剪刀') or \\\n",
    "         (player == '布' and computer == '石頭'):\n",
    "        print(\"你贏了！\")\n",
    "        player_win += 1\n",
    "    else:\n",
    "        print(\"你輸了！\")\n",
    "        computer_win += 1\n",
    "\n",
    "        \n",
    "    print(\"你贏\", player_win, \"次\")\n",
    "    print(\"電腦贏\", computer_win, \"次\")\n",
    "\n",
    "\n"
   ]
  },
  {
   "cell_type": "code",
   "execution_count": 29,
   "id": "acbaa393-2c98-4572-a996-4722777203d9",
   "metadata": {},
   "outputs": [
    {
     "name": "stdout",
     "output_type": "stream",
     "text": [
      "輸入錯誤，請輸入剪刀、石頭或布\n"
     ]
    }
   ],
   "source": [
    "import random\n",
    "\n",
    "user = input('猜拳 (剪刀、石頭、布): ')\n",
    "if user not in ['剪刀', '石頭', '布']:\n",
    "    print('輸入錯誤，請輸入剪刀、石頭或布')\n",
    "else:\n",
    "    computer = random.choice(['剪刀', '石頭', '布'])\n",
    "    print(f'user: {user} vs computer: {computer}')\n",
    "\n",
    "    win_map = {'剪刀': '布', '布': '石頭', '石頭': '剪刀'}\n",
    "\n",
    "    if user == computer:\n",
    "        print('tie')\n",
    "    elif win_map[user] == computer:\n",
    "        print('user win')\n",
    "    else:\n",
    "        print('computer win')"
   ]
  },
  {
   "cell_type": "markdown",
   "id": "8f8a618b-464b-4627-a867-134a4a3fc9ae",
   "metadata": {},
   "source": [
    "## <div id=\"nl\"><font color=\"blue\">3. 基礎巢狀迴圈</font></div>"
   ]
  },
  {
   "cell_type": "markdown",
   "id": "2be4d07f-a6c6-4df0-b3f7-6a8221749f9f",
   "metadata": {},
   "source": [
    "## <font color=\"brown\">完美列印九九乘法表</font>\n",
    "\n",
    "<b>Tech</b>\n",
    "<ol>\n",
    "    <li>Nested loop</li>\n",
    "    <li>print arguments</li>\n",
    "</ol>\n",
    "\n",
    "\n",
    "<b>Tasks</b>\n",
    "<ol>\n",
    "    <li>整齊印出如下的九九乘法表 (注意空格)</li>\n",
    "</ol>\n",
    "\n",
    "<b>Output</b>\n",
    "\n",
    "<tt><font color='blue'>\n",
    "1 x 1 =  1 2 x 1 = &nbsp;2 3 x 1 = &nbsp;3 4 x 1 = &nbsp;4 5 x 1 = &nbsp;5 6 x 1 = &nbsp;6 7 x 1 = &nbsp;7 8 x 1 = &nbsp;8 9 x 1 = &nbsp;9<br> \n",
    "1 x 2 =  2 2 x 2 = &nbsp;4 3 x 2 = &nbsp;6 4 x 2 = &nbsp;8 5 x 2 = 10 6 x 2 = 12 7 x 2 = 14 8 x 2 = 16 9 x 2 = 18<br>\n",
    "1 x 3 =  3 2 x 3 = &nbsp;6 3 x 3 = &nbsp;9 4 x 3 = 12 5 x 3 = 15 6 x 3 = 18 7 x 3 = 21 8 x 3 = 24 9 x 3 = 27<br>\n",
    "1 x 4 =  4 2 x 4 = &nbsp;8 3 x 4 = 12 4 x 4 = 16 5 x 4 = 20 6 x 4 = 24 7 x 4 = 28 8 x 4 = 32 9 x 4 = 36<br>\n",
    "1 x 5 =  5 2 x 5 = 10 3 x 5 = 15 4 x 5 = 20 5 x 5 = 25 6 x 5 = 30 7 x 5 = 35 8 x 5 = 40 9 x 5 = 45<br>\n",
    "1 x 6 =  6 2 x 6 = 12 3 x 6 = 18 4 x 6 = 24 5 x 6 = 30 6 x 6 = 36 7 x 6 = 42 8 x 6 = 48 9 x 6 = 54<br>\n",
    "1 x 7 =  7 2 x 7 = 14 3 x 7 = 21 4 x 7 = 28 5 x 7 = 35 6 x 7 = 42 7 x 7 = 49 8 x 7 = 56 9 x 7 = 63<br>\n",
    "1 x 8 =  8 2 x 8 = 16 3 x 8 = 24 4 x 8 = 32 5 x 8 = 40 6 x 8 = 48 7 x 8 = 56 8 x 8 = 64 9 x 8 = 72<br>\n",
    "1 x 9 =  9 2 x 9 = 18 3 x 9 = 27 4 x 9 = 36 5 x 9 = 45 6 x 9 = 54 7 x 9 = 63 8 x 9 = 72 9 x 9 = 81<br>\n",
    "</font></tt>"
   ]
  },
  {
   "cell_type": "code",
   "execution_count": 30,
   "id": "cf536c78",
   "metadata": {},
   "outputs": [
    {
     "name": "stdout",
     "output_type": "stream",
     "text": [
      "1 x 1 = 1 1 x 2 =  2 1 x 3 =  3 1 x 4 =  4 1 x 5 =  5 1 x 6 =  6 1 x 7 =  7 1 x 8 =  8 1 x 9 =  9 \n",
      "2 x 1 = 2 2 x 2 =  4 2 x 3 =  6 2 x 4 =  8 2 x 5 = 10 2 x 6 = 12 2 x 7 = 14 2 x 8 = 16 2 x 9 = 18 \n",
      "3 x 1 = 3 3 x 2 =  6 3 x 3 =  9 3 x 4 = 12 3 x 5 = 15 3 x 6 = 18 3 x 7 = 21 3 x 8 = 24 3 x 9 = 27 \n",
      "4 x 1 = 4 4 x 2 =  8 4 x 3 = 12 4 x 4 = 16 4 x 5 = 20 4 x 6 = 24 4 x 7 = 28 4 x 8 = 32 4 x 9 = 36 \n",
      "5 x 1 = 5 5 x 2 = 10 5 x 3 = 15 5 x 4 = 20 5 x 5 = 25 5 x 6 = 30 5 x 7 = 35 5 x 8 = 40 5 x 9 = 45 \n",
      "6 x 1 = 6 6 x 2 = 12 6 x 3 = 18 6 x 4 = 24 6 x 5 = 30 6 x 6 = 36 6 x 7 = 42 6 x 8 = 48 6 x 9 = 54 \n",
      "7 x 1 = 7 7 x 2 = 14 7 x 3 = 21 7 x 4 = 28 7 x 5 = 35 7 x 6 = 42 7 x 7 = 49 7 x 8 = 56 7 x 9 = 63 \n",
      "8 x 1 = 8 8 x 2 = 16 8 x 3 = 24 8 x 4 = 32 8 x 5 = 40 8 x 6 = 48 8 x 7 = 56 8 x 8 = 64 8 x 9 = 72 \n",
      "9 x 1 = 9 9 x 2 = 18 9 x 3 = 27 9 x 4 = 36 9 x 5 = 45 9 x 6 = 54 9 x 7 = 63 9 x 8 = 72 9 x 9 = 81 \n"
     ]
    }
   ],
   "source": [
    "str = \"\"\n",
    "for i in range(1, 10):\n",
    "    for j in range(1, 10,):\n",
    "        #if j == 1:\n",
    "        #    print(f'{i} x {j} = {i*j}', end=' ')\n",
    "        #else:          \n",
    "        #    print(f'{i} x {j} = {i*j:2}', end=' ')\n",
    "        #print(f'{i} x {j} = {i*j}' if j == 1 else f'{i} x {j} = {i*j:2}', end=' ')\n",
    "        print(f'{i} x {j} = {i*j:{2 if j > 1 else 1}}', end=' ')\n",
    "    print()"
   ]
  },
  {
   "cell_type": "code",
   "execution_count": 31,
   "id": "c6124906",
   "metadata": {},
   "outputs": [
    {
     "data": {
      "text/plain": [
       "'good'"
      ]
     },
     "execution_count": 31,
     "metadata": {},
     "output_type": "execute_result"
    }
   ],
   "source": [
    "a = 110\n",
    "#if a > 100:\n",
    "#    b = 'good'\n",
    "#else:\n",
    "#    b = 'bad'\n",
    "#print(b)\n",
    "\n",
    "b = 'good' if a > 100 else 'bad'\n",
    "b"
   ]
  },
  {
   "cell_type": "code",
   "execution_count": 32,
   "id": "2b08bbfe",
   "metadata": {},
   "outputs": [
    {
     "name": "stdout",
     "output_type": "stream",
     "text": [
      "Help on built-in function print in module builtins:\n",
      "\n",
      "print(*args, sep=' ', end='\\n', file=None, flush=False)\n",
      "    Prints the values to a stream, or to sys.stdout by default.\n",
      "\n",
      "    sep\n",
      "      string inserted between values, default a space.\n",
      "    end\n",
      "      string appended after the last value, default a newline.\n",
      "    file\n",
      "      a file-like object (stream); defaults to the current sys.stdout.\n",
      "    flush\n",
      "      whether to forcibly flush the stream.\n",
      "\n"
     ]
    }
   ],
   "source": [
    "#for i in range(10, 1, -1):\n",
    "#    print(i)\n",
    "\n",
    "a = ['a', 'b', 'c', 'd']\n",
    "a[::-1]\n",
    "\n",
    "help(print)"
   ]
  },
  {
   "cell_type": "code",
   "execution_count": 33,
   "id": "2ba4bbe6",
   "metadata": {},
   "outputs": [
    {
     "name": "stdout",
     "output_type": "stream",
     "text": [
      "1 x 1 1 1 x 2 2 1 x 3 2 1 x 4 2 1 x 5 2 1 x 6 2 1 x 7 2 1 x 8 2 1 x 9 2 \n",
      "2 x 1 1 2 x 2 2 2 x 3 2 2 x 4 2 2 x 5 2 2 x 6 2 2 x 7 2 2 x 8 2 2 x 9 2 \n",
      "3 x 1 1 3 x 2 2 3 x 3 2 3 x 4 2 3 x 5 2 3 x 6 2 3 x 7 2 3 x 8 2 3 x 9 2 \n",
      "4 x 1 1 4 x 2 2 4 x 3 2 4 x 4 2 4 x 5 2 4 x 6 2 4 x 7 2 4 x 8 2 4 x 9 2 \n",
      "5 x 1 1 5 x 2 2 5 x 3 2 5 x 4 2 5 x 5 2 5 x 6 2 5 x 7 2 5 x 8 2 5 x 9 2 \n",
      "6 x 1 1 6 x 2 2 6 x 3 2 6 x 4 2 6 x 5 2 6 x 6 2 6 x 7 2 6 x 8 2 6 x 9 2 \n",
      "7 x 1 1 7 x 2 2 7 x 3 2 7 x 4 2 7 x 5 2 7 x 6 2 7 x 7 2 7 x 8 2 7 x 9 2 \n",
      "8 x 1 1 8 x 2 2 8 x 3 2 8 x 4 2 8 x 5 2 8 x 6 2 8 x 7 2 8 x 8 2 8 x 9 2 \n",
      "9 x 1 1 9 x 2 2 9 x 3 2 9 x 4 2 9 x 5 2 9 x 6 2 9 x 7 2 9 x 8 2 9 x 9 2 \n"
     ]
    }
   ],
   "source": [
    "for i in range(1, 10):\n",
    "    for j in range(1, 10,):\n",
    "        print(f'{i} x {j}', end=' ')\n",
    "        print(j > 1 and 2 or 1, end=' ')\n",
    "    print()\n",
    "\n"
   ]
  },
  {
   "cell_type": "code",
   "execution_count": 34,
   "id": "a34ea9ba",
   "metadata": {},
   "outputs": [
    {
     "name": "stdout",
     "output_type": "stream",
     "text": [
      "3\n",
      "0\n",
      "1\n",
      "1\n",
      "2\n",
      "1\n",
      "2\n"
     ]
    }
   ],
   "source": [
    "\n",
    "#and 和 or 的使用原則 \n",
    "#在 Python 裡使用 and 與 or 回傳值時，會遵照下列幾個原則進行：\n",
    "#\n",
    "#使用 and 運算，如果全部都是 True，回傳最右邊 True 的值，否則回傳第一個 False 的值。\n",
    "#使用 or 運算，如果全為 False，回傳最右邊 False 的值，否則回傳第一個 True 的值。\n",
    "#元素除了 0、空 ( 空字串、空列表...等 )、None 和 False，其他在判斷式裡，全都是 True。\n",
    "#越左方 ( 越前方 ) 會越先判斷，逐步往右邊判斷。\n",
    "#除了從左向右判斷，同時使用多個 and、or 或 not，會先判斷 not，再判斷 and，最後再判斷 or。\n",
    "\n",
    "a = 1 and 2 and 3\n",
    "print(a)            # 3，全部都 True，所以回傳最右邊的值\n",
    "\n",
    "b = 1 and 0 and 2\n",
    "print(b)            # 0，遇到 0 ( False )，回傳第一個 False 的值就是 0\n",
    "\n",
    "c = 1 or 2 or 3\n",
    "print(c)            # 1，全部都 True，所以回傳第一個值\n",
    "\n",
    "d = 1 or 0 or 3\n",
    "print(d)            # 1，遇到 0 ( False )，回傳第一個 True 的值就是 1\n",
    "\n",
    "e = 1 and 2 or 3\n",
    "print(e)            # 2，效果等同 1 and ( 2 or 3 )\n",
    "\n",
    "f = 1 or 2 and 3\n",
    "print(f)            # 1，效果等同 1 or ( 2 and 3 )，2 和 3 先取出 3 之後變成 1 or 3\n",
    "\n",
    "g = 1 and 2 or 3 and 4 or 5\n",
    "print(g)            # 2，效果等同 1 and ( 2 or ( 3 and ( 4 or 5 )))"
   ]
  },
  {
   "cell_type": "markdown",
   "id": "0019636e-6aec-4515-a578-b9985aaf6a3a",
   "metadata": {},
   "source": [
    "## <div id=\"flag\"><font color=\"blue\">4. 旗標應用</font></div>"
   ]
  },
  {
   "cell_type": "markdown",
   "id": "c5dde3ee-501f-4b04-92dd-b3c2654050e1",
   "metadata": {},
   "source": [
    "## <font color=\"brown\">Missing Number</font>\n",
    "\n",
    "<b>Tech</b>\n",
    "<ol>\n",
    "    <li>Loop</li>\n",
    "    <li>Dynamic allocation</li>\n",
    "</ol>\n",
    "\n",
    "<b>Tasks</b>\n",
    "<ol>\n",
    "    <li>實作 LeetCode > Top Interview Questions > Easy Collection > Others > Missing Number</li>\n",
    "</ol>"
   ]
  },
  {
   "cell_type": "code",
   "execution_count": 35,
   "id": "60a8e7ab",
   "metadata": {},
   "outputs": [
    {
     "name": "stdout",
     "output_type": "stream",
     "text": [
      "9\n"
     ]
    }
   ],
   "source": [
    "def missingNumber(nums: list[int]) -> int:\n",
    "    list_length  =  len(nums)\n",
    "    return list_length \n",
    "\n",
    "\n",
    "list_nums = [9,6,4,2,3,5,7,0,1]\n",
    "print(missingNumber(list_nums))"
   ]
  },
  {
   "cell_type": "code",
   "execution_count": 36,
   "id": "48e516d7",
   "metadata": {},
   "outputs": [
    {
     "name": "stdout",
     "output_type": "stream",
     "text": [
      "0\n"
     ]
    }
   ],
   "source": [
    "nums = [1, 2, 3]\n",
    "wish = [0, 1, 2, 3]\n",
    "flags = [False, False, False, False]\n",
    "for n in nums:\n",
    "    flags[n] = True\n",
    "flags\n",
    "\n",
    "for i in range(len(flags)):\n",
    "    if not flags[i]:\n",
    "    #if flags[i] == False:\n",
    "            print(i)\n",
    "            break"
   ]
  },
  {
   "cell_type": "code",
   "execution_count": 37,
   "id": "d516543e",
   "metadata": {},
   "outputs": [
    {
     "data": {
      "text/plain": [
       "0"
      ]
     },
     "execution_count": 37,
     "metadata": {},
     "output_type": "execute_result"
    }
   ],
   "source": [
    "def test(nums):\n",
    "    pool = set(range(len(nums)+1))\n",
    "    for n in nums:\n",
    "        pool.remove(n)\n",
    "    return pool.pop()\n",
    "\n",
    "def testv2(nums):\n",
    "    flags = [False] * (len(nums)+1)\n",
    "    for n in nums:\n",
    "        flags[n] = True\n",
    "    for i in range(len(flags)):\n",
    "        if not flags[i]:\n",
    "            return i\n",
    "        \n",
    "nums = [1, 2, 3]\n",
    "test(nums)\n",
    "#testv2(nums)"
   ]
  },
  {
   "cell_type": "code",
   "execution_count": 38,
   "id": "5d02a6b5",
   "metadata": {},
   "outputs": [
    {
     "name": "stdout",
     "output_type": "stream",
     "text": [
      "[1]\n"
     ]
    }
   ],
   "source": [
    "\n",
    "#def testv0(nums):\n",
    "#   for n in range(len(nums)+1):\n",
    "\n",
    "\n",
    "nums = [0, 2, 3]\n",
    "\n",
    "\n",
    "def testv0(nums):\n",
    "    wish = list(range(len(nums)+1))\n",
    "    diff = [x for x in wish if x not in nums]\n",
    "    print(diff)\n",
    "\n",
    "testv0(nums)"
   ]
  },
  {
   "cell_type": "code",
   "execution_count": 39,
   "id": "740c1c04",
   "metadata": {},
   "outputs": [
    {
     "data": {
      "text/plain": [
       "1"
      ]
     },
     "execution_count": 39,
     "metadata": {},
     "output_type": "execute_result"
    }
   ],
   "source": [
    "def testv3(nums):\n",
    "    wiah = range(len(nums)+1)\n",
    "    return sum(wish)-sum(nums)\n",
    "        \n",
    "nums = [0, 2, 3]\n",
    "testv3(nums)"
   ]
  },
  {
   "cell_type": "markdown",
   "id": "4d3d8ab5-3039-42fa-be23-990053d6f841",
   "metadata": {},
   "source": [
    "## <div id=\"nl2\"><font color=\"blue\">5. 巢狀迴圈搭配雙層 list 應用</font></div>"
   ]
  },
  {
   "cell_type": "markdown",
   "id": "2014599b-5f71-44dc-9df9-6555ef733e34",
   "metadata": {},
   "source": [
    "## <font color=\"brown\">Valid Sudoku</font>\n",
    "\n",
    "<b>Tech</b>\n",
    "<ol>\n",
    "    <li>Nested loop</li>\n",
    "    <li>Operators</li>\n",
    "</ol>\n",
    "\n",
    "<b>Tasks</b>\n",
    "<ol>\n",
    "    <li>實作 LeetCode > Top Interview Questions > Easy Collection > Array > Valid Sudoku</li>\n",
    "</ol>\n",
    "\n",
    "<b>Hints</b>\n",
    "<ol><tt>\n",
    "    <li><font color=\"green\">//</font></li>\n",
    "    <li><font color=\"green\">%</font></li>\n",
    "</tt></ol>"
   ]
  },
  {
   "cell_type": "code",
   "execution_count": 40,
   "id": "6454104b",
   "metadata": {},
   "outputs": [
    {
     "data": {
      "text/plain": [
       "True"
      ]
     },
     "execution_count": 40,
     "metadata": {},
     "output_type": "execute_result"
    }
   ],
   "source": [
    "\n",
    "board = [\n",
    " [\"5\",\"3\",\".\",\".\",\"7\",\".\",\".\",\".\",\".\"]\n",
    ",[\"6\",\".\",\".\",\"1\",\"9\",\"5\",\".\",\".\",\".\"]\n",
    ",[\".\",\"9\",\"8\",\".\",\".\",\".\",\".\",\"6\",\".\"]\n",
    ",[\"8\",\".\",\".\",\".\",\"6\",\".\",\".\",\".\",\"3\"]\n",
    ",[\"4\",\".\",\".\",\"8\",\".\",\"3\",\".\",\".\",\"1\"]\n",
    ",[\"7\",\".\",\".\",\".\",\"2\",\".\",\".\",\".\",\"6\"]\n",
    ",[\".\",\"6\",\".\",\".\",\".\",\".\",\"2\",\"8\",\".\"]\n",
    ",[\".\",\".\",\".\",\"4\",\"1\",\"9\",\".\",\".\",\"5\"]\n",
    ",[\".\",\".\",\".\",\".\",\"8\",\".\",\".\",\"7\",\"9\"]\n",
    "]\n",
    "\n",
    "#rows = 9\n",
    "#cols = 9\n",
    "#for i in range(rows):\n",
    "#    for j in range(cols):\n",
    "#        print(board[i][j])\n",
    "\n",
    "\n",
    "def isValidSudoku(board) -> bool:\n",
    "    row=[set() for i in range(9)]\n",
    "    column=[set() for i in range(9)]\n",
    "    block=[set() for i in range(9)]\n",
    "    \n",
    "    \n",
    "    for i,m in enumerate(board):\n",
    "        for j,n in enumerate(m):\n",
    "            if n==\".\":\n",
    "                continue\n",
    "            if n in row[i] or n in column[j] or  n in block[(i//3)*3+j//3]:\n",
    "            \n",
    "            # (i//3)*3+j//3對9個3x3矩陣做0~8的編號\n",
    "                return False\n",
    "        \n",
    "            row[i].add(n)\n",
    "            column[j].add(n)\n",
    "            block[(i//3)*3+j//3].add(n)\n",
    "            \n",
    "    return True\n",
    "\n",
    "isValidSudoku(board)"
   ]
  },
  {
   "cell_type": "code",
   "execution_count": 41,
   "id": "89a498db",
   "metadata": {},
   "outputs": [],
   "source": [
    "under_test = [\"5\",\"3\",\".\",\".\",\"7\",\".\",\".\",\".\",\".\"]\n",
    "pool = []\n",
    "for n in under_test:\n",
    "    if n != '.':\n",
    "        if n in pool:\n",
    "            print('duplicate')\n",
    "            break\n",
    "        else:\n",
    "            pool.append(n)"
   ]
  },
  {
   "cell_type": "code",
   "execution_count": 42,
   "id": "9bc76a50",
   "metadata": {},
   "outputs": [
    {
     "data": {
      "text/plain": [
       "False"
      ]
     },
     "execution_count": 42,
     "metadata": {},
     "output_type": "execute_result"
    }
   ],
   "source": [
    "under_test = [\"5\",\"3\",\".\",\".\",\"7\",\".\",\".\",\".\",\"7\"]\n",
    "\n",
    "def chaeck9(under_test):\n",
    "    flags = [False] * 10\n",
    "    for n in under_test:\n",
    "        if n != '.':\n",
    "            d = int(n)\n",
    "            #if flags[d] == True:\n",
    "            if flags[d]:\n",
    "                #print('error')\n",
    "                #break\n",
    "                return False\n",
    "            else:\n",
    "                flags[d] = True\n",
    "    return True\n",
    "\n",
    "chaeck9(under_test)\n"
   ]
  },
  {
   "cell_type": "code",
   "execution_count": 43,
   "id": "fce3736f",
   "metadata": {},
   "outputs": [
    {
     "name": "stdout",
     "output_type": "stream",
     "text": [
      "['5', '3', '.', '.', '7', '.', '.', '.', '.'] True\n",
      "['6', '.', '.', '1', '9', '5', '.', '.', '.'] True\n",
      "['.', '9', '8', '.', '.', '.', '.', '6', '.'] True\n",
      "['8', '.', '.', '.', '6', '.', '.', '.', '3'] True\n",
      "['4', '.', '.', '8', '.', '3', '.', '.', '1'] True\n",
      "['7', '.', '.', '.', '2', '.', '.', '.', '6'] True\n",
      "['.', '6', '.', '.', '.', '.', '2', '8', '.'] True\n",
      "['.', '.', '.', '4', '1', '9', '.', '.', '5'] True\n",
      "['.', '.', '.', '.', '8', '.', '.', '7', '9'] True\n"
     ]
    }
   ],
   "source": [
    "board = [\n",
    " [\"5\",\"3\",\".\",\".\",\"7\",\".\",\".\",\".\",\".\"]\n",
    ",[\"6\",\".\",\".\",\"1\",\"9\",\"5\",\".\",\".\",\".\"]\n",
    ",[\".\",\"9\",\"8\",\".\",\".\",\".\",\".\",\"6\",\".\"]\n",
    ",[\"8\",\".\",\".\",\".\",\"6\",\".\",\".\",\".\",\"3\"]\n",
    ",[\"4\",\".\",\".\",\"8\",\".\",\"3\",\".\",\".\",\"1\"]\n",
    ",[\"7\",\".\",\".\",\".\",\"2\",\".\",\".\",\".\",\"6\"]\n",
    ",[\".\",\"6\",\".\",\".\",\".\",\".\",\"2\",\"8\",\".\"]\n",
    ",[\".\",\".\",\".\",\"4\",\"1\",\"9\",\".\",\".\",\"5\"]\n",
    ",[\".\",\".\",\".\",\".\",\"8\",\".\",\".\",\"7\",\"9\"]\n",
    "]\n",
    "\n",
    "\n",
    "def check9(under_test):\n",
    "    flags = [False] * 10\n",
    "    for n in under_test:\n",
    "        if n != '.':\n",
    "            d = int(n)\n",
    "            #if flags[d] == True:\n",
    "            if flags[d]:\n",
    "                #print('error')\n",
    "                #break\n",
    "                return False\n",
    "            else:\n",
    "                flags[d] = True\n",
    "    return True\n",
    "\n",
    "j = 0\n",
    "for j in range(9):\n",
    "    #under_test = []\n",
    "    #for i in range(9):\n",
    "    #    under_test.append(board[j][i])\n",
    "    under_test = [board[j][i] for i in range(9)]\n",
    "    print(under_test, check9(under_test))\n",
    "\n"
   ]
  },
  {
   "cell_type": "code",
   "execution_count": 44,
   "id": "9d3ec5e5",
   "metadata": {},
   "outputs": [
    {
     "data": {
      "text/plain": [
       "<generator object <genexpr> at 0x00000169091F7640>"
      ]
     },
     "execution_count": 44,
     "metadata": {},
     "output_type": "execute_result"
    }
   ],
   "source": [
    "#[i for i in range(10) if i % 2]\n",
    "#[(i,j) for i in range(1,10) for j in range(1,10)]\n",
    "(i for i in range(10))"
   ]
  },
  {
   "cell_type": "markdown",
   "id": "69aaad9b-af85-4dbe-b79c-755dd2d87987",
   "metadata": {},
   "source": [
    "## <div id=\"dil\"><font color=\"blue\">6. 資料結構設計、判斷式、迴圈綜合應用</font></div>"
   ]
  },
  {
   "cell_type": "markdown",
   "id": "0dc4cbbd-d2ab-40d6-ac03-4a7f7d872155",
   "metadata": {},
   "source": [
    "## <font color=\"brown\">大老二一決勝負</font>\n",
    "\n",
    "<b>Tech</b>\n",
    "<ol>\n",
    "    <li>if-elif-else</li>\n",
    "    <li>Data types</li>\n",
    "    <li>Loop</li>\n",
    "    <li>random</li>\n",
    "    <li>Weights design</li>\n",
    "</ol>\n",
    "\n",
    "<b>Tasks</b>\n",
    "<ol>\n",
    "    <li>隨機各發一張撲克牌給 player1 與 player2，撲克牌結構範例為 ('SPADE', '3') 代表 黑桃3</li>\n",
    "    <li>比較 player1 與 player2 勝負\n",
    "        <ol>\n",
    "            <li type=\"a\">先比數字，數字大小依序為 '2' > 'A' > 'K' > 'Q' > 'J' > '10' > '9' > '8' > '7' > '6' > '5' > '4' > '3'，較大者獲勝\n",
    "            <li type=\"a\">若雙方數字相同則比較花色，花色大小依序為 'SPADE' > 'HEART' > 'DIAMOND' > 'CLUB'，較大者獲勝\n",
    "        </ol>\n",
    "    </li>\n",
    "    <li>輸出 player1 與 player2 勝負</li>\n",
    "</ol>"
   ]
  },
  {
   "cell_type": "code",
   "execution_count": 45,
   "id": "a958d2d4",
   "metadata": {},
   "outputs": [
    {
     "name": "stdout",
     "output_type": "stream",
     "text": [
      "random_sample= [(2, 9), (0, 1)]\n",
      "p1= DIAMOND (idx:2) 6 (idx:9)\n",
      "p2= SPADE (idx:0) A (idx:1)\n",
      "p2 win\n"
     ]
    }
   ],
   "source": [
    "import random\n",
    "def getCardList():\n",
    "    poker_suits = ['SPADE', 'HEART', 'DIAMOND', 'CLUB' ]\n",
    "    poker_nums = ['2', 'A', 'K', 'Q', 'J', '10', '9', '8', '7', '6', '5', '4', '3']\n",
    "    return [(i,j) for i in range(len(poker_suits)) for j in range(len(poker_nums))]\n",
    "\n",
    "def getRandomCards(list_cards, cards_cnt):\n",
    "    return random.sample(list_cards, cards_cnt)\n",
    "\n",
    "def compareResult(p1, p2):\n",
    "    p1_suit = poker_suits[p1[0]]\n",
    "    p1_suit_idx = poker_suits.index(p1_suit)\n",
    "    p1_num = poker_nums[p1[1]]\n",
    "    p1_num_idx = poker_nums.index(p1_num)\n",
    "\n",
    "    p2_suit = poker_suits[p2[0]]\n",
    "    p2_suit_idx = poker_suits.index(p2_suit)\n",
    "    p2_num = poker_nums[p2[1]]\n",
    "    p2_num_idx = poker_nums.index(p2_num)\n",
    "\n",
    "    print(f'p1= {p1_suit} (idx:{p1_suit_idx}) {p1_num} (idx:{p1_num_idx})')\n",
    "    print(f'p2= {p2_suit} (idx:{p2_suit_idx}) {p2_num} (idx:{p2_num_idx})')\n",
    "    #print(f'p1= {p1_suit} {p1_num}')\n",
    "    #print(f'p2= {p2_suit} {p2_num}')\n",
    "\n",
    "\n",
    "    if p1_num_idx < p2_num_idx or (p1_num_idx == p2_num_idx and p1_suit_idx < p2_suit_idx):\n",
    "        print('p1 win')\n",
    "    else:\n",
    "        print('p2 win')\n",
    "\n",
    "\n",
    "list_cards = getCardList()\n",
    "#print(f'list_cards= {list_cards}')\n",
    "random_sample = getRandomCards(list_cards, 2)\n",
    "print(f'random_sample= {random_sample}')\n",
    "\n",
    "p1 = random_sample[0]\n",
    "p2 = random_sample[1]\n",
    "\n",
    "compareResult(p1, p2)\n"
   ]
  },
  {
   "cell_type": "code",
   "execution_count": 59,
   "id": "144e2fa6",
   "metadata": {},
   "outputs": [
    {
     "name": "stdout",
     "output_type": "stream",
     "text": [
      "list_cards= [(0, 0), (0, 1), (0, 2), (0, 3), (1, 0), (1, 1), (1, 2), (1, 3), (2, 0), (2, 1), (2, 2), (2, 3), (3, 0), (3, 1), (3, 2), (3, 3), (4, 0), (4, 1), (4, 2), (4, 3), (5, 0), (5, 1), (5, 2), (5, 3), (6, 0), (6, 1), (6, 2), (6, 3), (7, 0), (7, 1), (7, 2), (7, 3), (8, 0), (8, 1), (8, 2), (8, 3), (9, 0), (9, 1), (9, 2), (9, 3), (10, 0), (10, 1), (10, 2), (10, 3), (11, 0), (11, 1), (11, 2), (11, 3), (12, 0), (12, 1), (12, 2), (12, 3)]\n",
      "random_sample= [(6, 0), (11, 3)]\n",
      "p1: SPADE 9\n",
      "p2: CLUB 4\n",
      "p1 win\n"
     ]
    }
   ],
   "source": [
    "import random\n",
    "\n",
    "poker_suits = ['SPADE', 'HEART', 'DIAMOND', 'CLUB' ]\n",
    "poker_nums = ['2', 'A', 'K', 'Q', 'J', '10', '9', '8', '7', '6', '5', '4', '3']\n",
    "\n",
    "def getCardList():\n",
    "    return [(i,j) for i in range(len(poker_nums)) for j in range(len(poker_suits))]\n",
    "\n",
    "def getRandomCards(list_cards, cards_cnt):\n",
    "    return random.sample(list_cards, cards_cnt)\n",
    "\n",
    "list_cards = getCardList()\n",
    "print(f'list_cards= {list_cards}')\n",
    "random_sample = getRandomCards(list_cards, 2)\n",
    "print(f'random_sample= {random_sample}')\n",
    "\n",
    "p1 = random_sample[0]\n",
    "p2 = random_sample[1]\n",
    "\n",
    "p1_idx = list_cards.index(p1)\n",
    "p2_idx = list_cards.index(p2)\n",
    "\n",
    "p1_suit = poker_suits[p1[1]]\n",
    "p1_num = poker_nums[p1[0]]\n",
    "p2_suit = poker_suits[p2[1]]\n",
    "p2_num = poker_nums[p2[0]]\n",
    "\n",
    "print(f'p1: {p1_suit} {p1_num}')\n",
    "print(f'p2: {p2_suit} {p2_num}')\n",
    "\n",
    "\n",
    "if p1_idx < p2_idx:\n",
    "    print('p1 win')\n",
    "else:\n",
    "    print('p2 win')\n"
   ]
  },
  {
   "cell_type": "markdown",
   "id": "5d3dc676-1369-41cb-b386-21593fabe69c",
   "metadata": {},
   "source": [
    "## <div id=\"ila\"><font color=\"blue\">7. 判斷式、迴圈、演算法綜合應用</font></div>"
   ]
  },
  {
   "cell_type": "markdown",
   "id": "bdaa50b6-7a6e-48e9-ab6b-d8a5623e4ccb",
   "metadata": {},
   "source": [
    "## <font color=\"brown\">成績指標</font>\n",
    "\n",
    "<b>Tech</b>\n",
    "<ol>\n",
    "    <li>if-elif-else</li>\n",
    "    <li>Loop</li>\n",
    "    <li>Algorithm</li>\n",
    "    <li>time</li>\n",
    "</ol>\n",
    "\n",
    "<b>Tasks</b>\n",
    "<ol>\n",
    "    <li>完成 APCS 實作題_題目範例：成績指標</li>\n",
    "    <li>找出最有效率的演算法</li>\n",
    "</ol>\n",
    "\n",
    "<b>Hints</b>\n",
    "<ol>\n",
    "    <li>執行時間可由執行前與執行後的 <font color=\"green\">time.time()</font> 差值測得</li>\n",
    "    <li>效率比較時須注意公平性</li>\n",
    "</ol>"
   ]
  },
  {
   "cell_type": "code",
   "execution_count": 47,
   "id": "b8c5d856",
   "metadata": {},
   "outputs": [
    {
     "name": "stdout",
     "output_type": "stream",
     "text": [
      "65 73\n",
      "best case\n",
      "65\n",
      "time start 1749174258.5062554\n",
      "time start time.struct_time(tm_year=2025, tm_mon=6, tm_mday=6, tm_hour=9, tm_min=44, tm_sec=18, tm_wday=4, tm_yday=157, tm_isdst=0)\n",
      "time end 1749174258.5063977\n",
      "time start time.struct_time(tm_year=2025, tm_mon=6, tm_mday=6, tm_hour=9, tm_min=44, tm_sec=18, tm_wday=4, tm_yday=157, tm_isdst=0)\n",
      "elapsed time 0.0001423358917236328\n"
     ]
    }
   ],
   "source": [
    "import time\n",
    "\n",
    "student_cnt = 10\n",
    "student_cscores = [0, 11, 22, 33, 55, 66, 77, 99, 88, 44]\n",
    "student_cscores = [13]\n",
    "student_cscores = [73, 65]\n",
    "\n",
    "fail_max = max([n for n in student_cscores if n < 60], default=None)\n",
    "pass_min = min([n for n in student_cscores if n >= 60], default=None)\n",
    "\n",
    "time_start = time.time()\n",
    "\n",
    "student_cscores.sort()\n",
    "\n",
    "if fail_max == None:\n",
    "    msg2 = 'best case'\n",
    "else:\n",
    "    msg2 = fail_max\n",
    "\n",
    "\n",
    "if pass_min == None:\n",
    "    msg3 = 'worst case'\n",
    "else:\n",
    "    msg3 = pass_min\n",
    "\n",
    "time_end = time.time()\n",
    "\n",
    "#print(f'fail_max {fail_max}')\n",
    "#print(f'pass_min {pass_min}')\n",
    "\n",
    "print(*student_cscores)\n",
    "print(msg2)\n",
    "print(msg3)\n",
    "\n",
    "\n",
    "print(f'time start {time_start}')\n",
    "print(f'time start {time.localtime(time_start)}')\n",
    "\n",
    "print(f'time end {time_end}')\n",
    "print(f'time start {time.localtime(time_end)}')\n",
    "\n",
    "\n",
    "print(f'elapsed time {time_end-time_start}')\n",
    "\n"
   ]
  },
  {
   "cell_type": "markdown",
   "id": "68d0a7b1-ff46-4b59-8cf8-99be7a566c84",
   "metadata": {},
   "source": [
    "## <div id=\"pa\"><font color=\"blue\">8. 效率衡量</font></div>"
   ]
  },
  {
   "cell_type": "markdown",
   "id": "fcbe3de2-ea16-448e-9550-c2867a942bbe",
   "metadata": {},
   "source": [
    "## <font color=\"brown\">泡泡排序</font>\n",
    "\n",
    "<b>Tech</b>\n",
    "<ol>\n",
    "    <li>Loop</li>\n",
    "    <li>time</li>\n",
    "</ol>\n",
    "\n",
    "<b>Tasks</b>\n",
    "<ol>\n",
    "    <li>實作泡泡排序演算法，與 Python 內建排序工具比較執行效率</li>\n",
    "</ol>"
   ]
  },
  {
   "cell_type": "code",
   "execution_count": null,
   "id": "e08c5032",
   "metadata": {},
   "outputs": [
    {
     "name": "stdout",
     "output_type": "stream",
     "text": [
      "[0, 0, 0, 0, 0, 0, 0, 0, 0, 0, 0, 0, 0, 0, 0, 0, 0, 0, 0, 0, 0, 0, 0, 0, 0, 0, 0, 0, 0, 0, 0, 0, 0, 0, 0, 0, 0, 0, 0, 0, 0, 0, 0, 0, 0, 0, 0, 0, 0, 0, 0, 0, 0, 0, 0, 0, 1, 1, 1, 1, 1, 1, 1, 1, 1, 1, 1, 1, 1, 1, 1, 1, 1, 1, 1, 1, 1, 1, 1, 1, 1, 1, 1, 1, 1, 1, 1, 1, 1, 1, 1, 1, 1, 1, 1, 1, 1, 1, 1, 1, 1, 1, 1, 1, 1, 1, 1, 1, 1, 1, 1, 1, 1, 1, 1, 2, 2, 2, 2, 2, 2, 2, 2, 2, 2, 2, 2, 2, 2, 2, 2, 2, 2, 2, 2, 2, 2, 2, 2, 2, 2, 2, 2, 2, 2, 2, 2, 2, 2, 2, 2, 2, 2, 3, 3, 3, 3, 3, 3, 3, 3, 3, 3, 3, 3, 3, 3, 3, 3, 3, 3, 3, 3, 3, 3, 3, 3, 3, 3, 3, 3, 3, 3, 3, 3, 3, 3, 3, 3, 3, 3, 3, 3, 3, 4, 4, 4, 4, 4, 4, 4, 4, 4, 4, 4, 4, 4, 4, 4, 4, 4, 4, 4, 4, 4, 4, 4, 4, 4, 4, 4, 4, 4, 4, 4, 4, 4, 4, 4, 4, 4, 4, 4, 4, 4, 4, 4, 4, 4, 4, 4, 4, 4, 4, 4, 4, 4, 4, 4, 5, 5, 5, 5, 5, 5, 5, 5, 5, 5, 5, 5, 5, 5, 5, 5, 5, 5, 5, 5, 5, 5, 5, 5, 5, 5, 5, 5, 5, 5, 5, 5, 5, 5, 6, 6, 6, 6, 6, 6, 6, 6, 6, 6, 6, 6, 6, 6, 6, 6, 6, 6, 6, 6, 6, 6, 6, 6, 6, 6, 6, 6, 6, 6, 6, 6, 6, 6, 6, 6, 6, 6, 6, 6, 6, 6, 6, 6, 6, 6, 7, 7, 7, 7, 7, 7, 7, 7, 7, 7, 7, 7, 7, 7, 7, 7, 7, 7, 7, 7, 7, 7, 7, 7, 7, 7, 7, 7, 7, 7, 7, 7, 7, 7, 7, 7, 7, 7, 7, 7, 7, 7, 7, 7, 7, 7, 7, 7, 7, 7, 7, 7, 7, 7, 7, 7, 7, 8, 8, 8, 8, 8, 8, 8, 8, 8, 8, 8, 8, 8, 8, 8, 8, 8, 8, 8, 8, 8, 8, 8, 8, 8, 8, 8, 8, 8, 8, 8, 8, 8, 8, 8, 8, 8, 8, 8, 8, 8, 8, 8, 8, 8, 8, 8, 8, 8, 8, 8, 8, 8, 8, 8, 8, 8, 8, 8, 8, 8, 8, 8, 8, 8, 9, 9, 9, 9, 9, 9, 9, 9, 9, 9, 9, 9, 9, 9, 9, 9, 9, 9, 9, 9, 9, 9, 9, 9, 9, 9, 9, 9, 9, 9, 9, 9, 9, 9, 9, 9, 9, 9, 9, 9, 9, 9, 9, 9, 9, 9, 9, 9, 9, 9, 9, 9, 9, 9, 9, 9, 10, 10, 10, 10, 10, 10, 10, 10, 10, 10, 10, 10, 10, 10, 10, 10, 10, 10, 10, 10, 10, 10, 10, 10, 10, 10, 10, 10, 10, 10, 10, 10, 10, 10, 10, 10, 10, 10, 10, 10, 10, 10, 10, 10, 10, 10, 11, 11, 11, 11, 11, 11, 11, 11, 11, 11, 11, 11, 11, 11, 11, 11, 11, 11, 11, 11, 11, 11, 11, 11, 11, 11, 11, 11, 11, 11, 11, 11, 11, 11, 11, 11, 11, 11, 11, 11, 11, 11, 12, 12, 12, 12, 12, 12, 12, 12, 12, 12, 12, 12, 12, 12, 12, 12, 12, 12, 12, 12, 12, 12, 12, 12, 12, 12, 12, 12, 12, 12, 12, 12, 12, 12, 12, 12, 12, 12, 12, 12, 12, 12, 12, 12, 12, 12, 13, 13, 13, 13, 13, 13, 13, 13, 13, 13, 13, 13, 13, 13, 13, 13, 13, 13, 13, 13, 13, 13, 13, 13, 13, 13, 13, 13, 13, 13, 13, 13, 13, 13, 13, 13, 13, 13, 13, 13, 13, 13, 13, 13, 13, 13, 13, 13, 13, 13, 13, 13, 13, 13, 13, 13, 13, 14, 14, 14, 14, 14, 14, 14, 14, 14, 14, 14, 14, 14, 14, 14, 14, 14, 14, 14, 14, 14, 14, 14, 14, 14, 14, 14, 14, 14, 14, 14, 14, 14, 14, 14, 14, 14, 14, 14, 14, 14, 14, 14, 14, 14, 14, 14, 14, 14, 14, 14, 14, 14, 14, 14, 14, 14, 14, 14, 15, 15, 15, 15, 15, 15, 15, 15, 15, 15, 15, 15, 15, 15, 15, 15, 15, 15, 15, 15, 15, 15, 15, 15, 15, 15, 15, 15, 15, 15, 15, 15, 15, 15, 15, 15, 15, 15, 15, 15, 15, 15, 15, 15, 15, 15, 15, 15, 15, 15, 15, 16, 16, 16, 16, 16, 16, 16, 16, 16, 16, 16, 16, 16, 16, 16, 16, 16, 16, 16, 16, 16, 16, 16, 16, 16, 16, 16, 16, 16, 16, 16, 16, 16, 16, 16, 16, 16, 16, 16, 16, 16, 16, 16, 16, 16, 16, 16, 16, 16, 16, 16, 16, 16, 16, 16, 17, 17, 17, 17, 17, 17, 17, 17, 17, 17, 17, 17, 17, 17, 17, 17, 17, 17, 17, 17, 17, 17, 17, 17, 17, 17, 17, 17, 17, 17, 17, 17, 17, 17, 17, 17, 17, 17, 17, 17, 17, 17, 17, 18, 18, 18, 18, 18, 18, 18, 18, 18, 18, 18, 18, 18, 18, 18, 18, 18, 18, 18, 18, 18, 18, 18, 18, 18, 18, 18, 18, 18, 18, 18, 18, 18, 18, 18, 18, 18, 18, 18, 18, 18, 18, 18, 18, 18, 18, 18, 18, 18, 18, 18, 18, 18, 18, 18, 19, 19, 19, 19, 19, 19, 19, 19, 19, 19, 19, 19, 19, 19, 19, 19, 19, 19, 19, 19, 19, 19, 19, 19, 19, 19, 19, 19, 19, 19, 19, 19, 19, 19, 19, 20, 20, 20, 20, 20, 20, 20, 20, 20, 20, 20, 20, 20, 20, 20, 20, 20, 20, 20, 20, 20, 20, 20, 20, 20, 20, 20, 20, 20, 20, 20, 20, 20, 20, 20, 20, 20, 20, 20, 20, 20, 20, 20, 20, 20, 20, 20, 20, 20, 20, 20, 20, 20, 21, 21, 21, 21, 21, 21, 21, 21, 21, 21, 21, 21, 21, 21, 21, 21, 21, 21, 21, 21, 21, 21, 21, 21, 21, 21, 21, 21, 21, 21, 21, 21, 21, 21, 21, 21, 21, 21, 21, 21, 21, 21, 21, 21, 21, 21, 21, 21, 21, 21, 21, 21, 21, 21, 21, 22, 22, 22, 22, 22, 22, 22, 22, 22, 22, 22, 22, 22, 22, 22, 22, 22, 22, 22, 22, 22, 22, 22, 22, 22, 22, 22, 22, 22, 22, 22, 22, 22, 22, 22, 22, 22, 22, 22, 22, 22, 22, 22, 22, 22, 22, 22, 22, 22, 22, 23, 23, 23, 23, 23, 23, 23, 23, 23, 23, 23, 23, 23, 23, 23, 23, 23, 23, 23, 23, 23, 23, 23, 23, 23, 23, 23, 23, 23, 23, 23, 23, 23, 23, 23, 23, 23, 23, 23, 23, 23, 23, 23, 23, 23, 23, 23, 23, 23, 23, 23, 23, 23, 23, 23, 24, 24, 24, 24, 24, 24, 24, 24, 24, 24, 24, 24, 24, 24, 24, 24, 24, 24, 24, 24, 24, 24, 24, 24, 24, 24, 24, 24, 24, 24, 24, 24, 24, 24, 24, 24, 24, 24, 24, 24, 24, 24, 25, 25, 25, 25, 25, 25, 25, 25, 25, 25, 25, 25, 25, 25, 25, 25, 25, 25, 25, 25, 25, 25, 25, 25, 25, 25, 25, 25, 25, 25, 25, 25, 25, 25, 25, 25, 25, 25, 25, 25, 25, 25, 25, 25, 25, 25, 25, 25, 25, 25, 26, 26, 26, 26, 26, 26, 26, 26, 26, 26, 26, 26, 26, 26, 26, 26, 26, 26, 26, 26, 26, 26, 26, 26, 26, 26, 26, 26, 26, 26, 26, 26, 26, 26, 26, 26, 26, 26, 26, 26, 26, 26, 26, 26, 26, 26, 26, 26, 26, 26, 26, 26, 26, 26, 26, 26, 27, 27, 27, 27, 27, 27, 27, 27, 27, 27, 27, 27, 27, 27, 27, 27, 27, 27, 27, 27, 27, 27, 27, 27, 27, 27, 27, 27, 27, 27, 27, 27, 27, 27, 27, 27, 27, 27, 27, 28, 28, 28, 28, 28, 28, 28, 28, 28, 28, 28, 28, 28, 28, 28, 28, 28, 28, 28, 28, 28, 28, 28, 28, 28, 28, 28, 28, 28, 28, 28, 28, 28, 28, 28, 28, 28, 28, 28, 28, 28, 28, 28, 28, 28, 28, 28, 28, 28, 28, 28, 28, 29, 29, 29, 29, 29, 29, 29, 29, 29, 29, 29, 29, 29, 29, 29, 29, 29, 29, 29, 29, 29, 29, 29, 29, 29, 29, 29, 29, 29, 29, 29, 29, 29, 29, 29, 29, 29, 29, 29, 29, 29, 29, 29, 29, 29, 29, 29, 29, 29, 29, 29, 30, 30, 30, 30, 30, 30, 30, 30, 30, 30, 30, 30, 30, 30, 30, 30, 30, 30, 30, 30, 30, 30, 30, 30, 30, 30, 30, 30, 30, 30, 30, 30, 30, 30, 30, 30, 30, 30, 30, 30, 30, 30, 30, 30, 30, 30, 30, 30, 30, 30, 30, 30, 30, 30, 30, 30, 31, 31, 31, 31, 31, 31, 31, 31, 31, 31, 31, 31, 31, 31, 31, 31, 31, 31, 31, 31, 31, 31, 31, 31, 31, 31, 31, 31, 31, 31, 31, 31, 31, 31, 31, 31, 31, 31, 31, 31, 31, 31, 31, 31, 31, 31, 31, 31, 31, 31, 31, 31, 32, 32, 32, 32, 32, 32, 32, 32, 32, 32, 32, 32, 32, 32, 32, 32, 32, 32, 32, 32, 32, 32, 32, 32, 32, 32, 32, 32, 32, 32, 32, 32, 32, 32, 32, 32, 32, 32, 32, 32, 32, 32, 32, 32, 32, 32, 32, 32, 32, 32, 32, 32, 32, 32, 32, 33, 33, 33, 33, 33, 33, 33, 33, 33, 33, 33, 33, 33, 33, 33, 33, 33, 33, 33, 33, 33, 33, 33, 33, 33, 33, 33, 33, 33, 33, 33, 33, 33, 33, 33, 33, 33, 33, 33, 33, 33, 33, 33, 33, 33, 33, 33, 33, 33, 33, 33, 33, 33, 33, 34, 34, 34, 34, 34, 34, 34, 34, 34, 34, 34, 34, 34, 34, 34, 34, 34, 34, 34, 34, 34, 34, 34, 34, 34, 34, 34, 34, 34, 34, 34, 34, 34, 34, 34, 34, 34, 34, 34, 34, 34, 34, 34, 34, 34, 34, 34, 34, 34, 34, 34, 34, 34, 35, 35, 35, 35, 35, 35, 35, 35, 35, 35, 35, 35, 35, 35, 35, 35, 35, 35, 35, 35, 35, 35, 35, 35, 35, 35, 35, 35, 35, 35, 35, 35, 35, 35, 35, 35, 35, 35, 35, 35, 35, 35, 35, 35, 35, 35, 35, 35, 35, 35, 35, 36, 36, 36, 36, 36, 36, 36, 36, 36, 36, 36, 36, 36, 36, 36, 36, 36, 36, 36, 36, 36, 36, 36, 36, 36, 36, 36, 36, 36, 36, 36, 36, 36, 36, 36, 36, 36, 36, 36, 36, 36, 36, 36, 36, 36, 36, 36, 36, 36, 36, 36, 36, 36, 36, 36, 36, 36, 36, 36, 36, 36, 36, 37, 37, 37, 37, 37, 37, 37, 37, 37, 37, 37, 37, 37, 37, 37, 37, 37, 37, 37, 37, 37, 37, 37, 37, 37, 37, 37, 37, 37, 37, 37, 37, 37, 37, 37, 37, 37, 37, 37, 37, 37, 37, 37, 37, 37, 37, 37, 37, 37, 37, 37, 37, 37, 37, 37, 37, 37, 37, 38, 38, 38, 38, 38, 38, 38, 38, 38, 38, 38, 38, 38, 38, 38, 38, 38, 38, 38, 38, 38, 38, 38, 38, 38, 38, 38, 38, 38, 38, 38, 38, 39, 39, 39, 39, 39, 39, 39, 39, 39, 39, 39, 39, 39, 39, 39, 39, 39, 39, 39, 39, 39, 39, 39, 39, 39, 39, 39, 39, 39, 39, 39, 39, 39, 39, 39, 39, 39, 39, 39, 40, 40, 40, 40, 40, 40, 40, 40, 40, 40, 40, 40, 40, 40, 40, 40, 40, 40, 40, 40, 40, 40, 40, 40, 40, 40, 40, 40, 40, 40, 40, 40, 40, 40, 40, 40, 40, 40, 40, 40, 40, 40, 40, 40, 40, 40, 40, 40, 40, 40, 40, 40, 40, 40, 40, 40, 41, 41, 41, 41, 41, 41, 41, 41, 41, 41, 41, 41, 41, 41, 41, 41, 41, 41, 41, 41, 41, 41, 41, 41, 41, 41, 41, 41, 41, 41, 41, 41, 41, 41, 41, 41, 41, 41, 41, 41, 41, 41, 41, 41, 41, 41, 41, 41, 41, 41, 41, 41, 41, 41, 41, 41, 41, 41, 41, 41, 41, 41, 41, 41, 42, 42, 42, 42, 42, 42, 42, 42, 42, 42, 42, 42, 42, 42, 42, 42, 42, 42, 42, 42, 42, 42, 42, 42, 42, 42, 42, 42, 42, 42, 42, 42, 42, 42, 42, 42, 42, 42, 42, 42, 42, 42, 42, 42, 42, 42, 42, 42, 42, 42, 42, 43, 43, 43, 43, 43, 43, 43, 43, 43, 43, 43, 43, 43, 43, 43, 43, 43, 43, 43, 43, 43, 43, 43, 43, 43, 43, 43, 43, 43, 43, 43, 43, 43, 43, 43, 43, 43, 43, 43, 43, 43, 43, 43, 43, 43, 43, 44, 44, 44, 44, 44, 44, 44, 44, 44, 44, 44, 44, 44, 44, 44, 44, 44, 44, 44, 44, 44, 44, 44, 44, 44, 44, 44, 44, 44, 44, 44, 44, 44, 44, 44, 44, 44, 44, 44, 44, 44, 44, 44, 44, 44, 44, 44, 44, 44, 44, 44, 44, 45, 45, 45, 45, 45, 45, 45, 45, 45, 45, 45, 45, 45, 45, 45, 45, 45, 45, 45, 45, 45, 45, 45, 45, 45, 45, 45, 45, 45, 45, 45, 45, 45, 45, 45, 45, 45, 45, 45, 45, 45, 45, 45, 45, 46, 46, 46, 46, 46, 46, 46, 46, 46, 46, 46, 46, 46, 46, 46, 46, 46, 46, 46, 46, 46, 46, 46, 46, 46, 46, 46, 46, 46, 46, 46, 46, 46, 46, 46, 46, 46, 47, 47, 47, 47, 47, 47, 47, 47, 47, 47, 47, 47, 47, 47, 47, 47, 47, 47, 47, 47, 47, 47, 47, 47, 47, 47, 47, 47, 47, 47, 47, 47, 47, 47, 47, 47, 47, 47, 47, 47, 47, 47, 47, 47, 47, 47, 47, 47, 47, 47, 47, 47, 47, 48, 48, 48, 48, 48, 48, 48, 48, 48, 48, 48, 48, 48, 48, 48, 48, 48, 48, 48, 48, 48, 48, 48, 48, 48, 48, 48, 48, 48, 48, 48, 48, 48, 48, 48, 48, 48, 48, 48, 48, 48, 48, 48, 48, 48, 48, 48, 48, 48, 48, 48, 48, 48, 48, 48, 48, 48, 48, 48, 48, 48, 48, 48, 48, 48, 48, 49, 49, 49, 49, 49, 49, 49, 49, 49, 49, 49, 49, 49, 49, 49, 49, 49, 49, 49, 49, 49, 49, 49, 49, 49, 49, 49, 49, 49, 49, 49, 49, 49, 49, 49, 49, 49, 49, 49, 49, 49, 49, 49, 49, 49, 49, 49, 49, 49, 49, 49, 50, 50, 50, 50, 50, 50, 50, 50, 50, 50, 50, 50, 50, 50, 50, 50, 50, 50, 50, 50, 50, 50, 50, 50, 50, 50, 50, 50, 50, 50, 50, 50, 50, 50, 50, 50, 50, 50, 50, 50, 50, 50, 50, 50, 50, 50, 51, 51, 51, 51, 51, 51, 51, 51, 51, 51, 51, 51, 51, 51, 51, 51, 51, 51, 51, 51, 51, 51, 51, 51, 51, 51, 51, 51, 51, 51, 51, 51, 51, 51, 51, 51, 51, 51, 51, 51, 51, 51, 51, 51, 51, 51, 51, 51, 51, 51, 51, 52, 52, 52, 52, 52, 52, 52, 52, 52, 52, 52, 52, 52, 52, 52, 52, 52, 52, 52, 52, 52, 52, 52, 52, 52, 52, 52, 52, 52, 52, 52, 52, 52, 52, 52, 52, 52, 52, 52, 52, 52, 52, 52, 52, 52, 52, 52, 52, 52, 52, 53, 53, 53, 53, 53, 53, 53, 53, 53, 53, 53, 53, 53, 53, 53, 53, 53, 53, 53, 53, 53, 53, 53, 53, 53, 53, 53, 53, 53, 53, 53, 53, 53, 53, 53, 53, 53, 54, 54, 54, 54, 54, 54, 54, 54, 54, 54, 54, 54, 54, 54, 54, 54, 54, 54, 54, 54, 54, 54, 54, 54, 54, 54, 54, 54, 54, 54, 54, 54, 54, 54, 54, 54, 54, 54, 54, 54, 54, 54, 54, 54, 54, 54, 55, 55, 55, 55, 55, 55, 55, 55, 55, 55, 55, 55, 55, 55, 55, 55, 55, 55, 55, 55, 55, 55, 55, 55, 55, 55, 55, 55, 55, 55, 55, 55, 55, 55, 55, 55, 55, 55, 55, 55, 55, 55, 55, 55, 55, 55, 55, 55, 55, 55, 55, 55, 55, 55, 55, 55, 55, 55, 55, 55, 55, 55, 55, 56, 56, 56, 56, 56, 56, 56, 56, 56, 56, 56, 56, 56, 56, 56, 56, 56, 56, 56, 56, 56, 56, 56, 56, 56, 56, 56, 56, 56, 56, 56, 56, 56, 56, 56, 56, 56, 56, 56, 56, 56, 56, 56, 57, 57, 57, 57, 57, 57, 57, 57, 57, 57, 57, 57, 57, 57, 57, 57, 57, 57, 57, 57, 57, 57, 57, 57, 57, 57, 57, 57, 57, 57, 57, 57, 57, 57, 57, 57, 57, 57, 57, 57, 57, 57, 57, 57, 57, 57, 57, 57, 57, 57, 58, 58, 58, 58, 58, 58, 58, 58, 58, 58, 58, 58, 58, 58, 58, 58, 58, 58, 58, 58, 58, 58, 58, 58, 58, 58, 58, 58, 58, 58, 58, 58, 58, 58, 58, 58, 58, 58, 58, 58, 58, 58, 58, 59, 59, 59, 59, 59, 59, 59, 59, 59, 59, 59, 59, 59, 59, 59, 59, 59, 59, 59, 59, 59, 59, 59, 59, 59, 59, 59, 59, 59, 59, 59, 59, 59, 59, 59, 59, 59, 59, 59, 60, 60, 60, 60, 60, 60, 60, 60, 60, 60, 60, 60, 60, 60, 60, 60, 60, 60, 60, 60, 60, 60, 60, 60, 60, 60, 60, 60, 60, 60, 60, 60, 60, 60, 60, 60, 60, 60, 60, 60, 60, 60, 60, 60, 60, 60, 60, 60, 60, 60, 61, 61, 61, 61, 61, 61, 61, 61, 61, 61, 61, 61, 61, 61, 61, 61, 61, 61, 61, 61, 61, 61, 61, 61, 61, 61, 61, 61, 61, 61, 61, 61, 61, 61, 61, 61, 61, 61, 61, 61, 61, 61, 61, 61, 61, 61, 61, 61, 61, 61, 61, 61, 61, 61, 61, 61, 61, 62, 62, 62, 62, 62, 62, 62, 62, 62, 62, 62, 62, 62, 62, 62, 62, 62, 62, 62, 62, 62, 62, 62, 62, 62, 62, 62, 62, 62, 62, 62, 62, 62, 62, 62, 62, 62, 62, 62, 62, 62, 62, 62, 62, 62, 62, 62, 62, 62, 62, 62, 62, 63, 63, 63, 63, 63, 63, 63, 63, 63, 63, 63, 63, 63, 63, 63, 63, 63, 63, 63, 63, 63, 63, 63, 63, 63, 63, 63, 63, 63, 63, 63, 63, 63, 63, 63, 63, 63, 63, 63, 63, 63, 63, 63, 63, 63, 63, 63, 63, 63, 64, 64, 64, 64, 64, 64, 64, 64, 64, 64, 64, 64, 64, 64, 64, 64, 64, 64, 64, 64, 64, 64, 64, 64, 64, 64, 64, 64, 64, 64, 64, 64, 64, 64, 64, 64, 64, 64, 64, 64, 64, 64, 64, 64, 65, 65, 65, 65, 65, 65, 65, 65, 65, 65, 65, 65, 65, 65, 65, 65, 65, 65, 65, 65, 65, 65, 65, 65, 65, 65, 65, 65, 65, 65, 65, 65, 65, 65, 65, 65, 65, 65, 65, 65, 65, 65, 65, 66, 66, 66, 66, 66, 66, 66, 66, 66, 66, 66, 66, 66, 66, 66, 66, 66, 66, 66, 66, 66, 66, 66, 66, 66, 66, 66, 66, 66, 66, 66, 66, 66, 66, 66, 66, 66, 66, 66, 66, 66, 67, 67, 67, 67, 67, 67, 67, 67, 67, 67, 67, 67, 67, 67, 67, 67, 67, 67, 67, 67, 67, 67, 67, 67, 67, 67, 67, 67, 67, 67, 67, 67, 67, 67, 67, 67, 67, 67, 67, 67, 67, 67, 67, 67, 67, 67, 67, 67, 68, 68, 68, 68, 68, 68, 68, 68, 68, 68, 68, 68, 68, 68, 68, 68, 68, 68, 68, 68, 68, 68, 68, 68, 68, 68, 68, 68, 68, 68, 68, 68, 68, 68, 68, 68, 68, 68, 68, 68, 68, 68, 68, 68, 68, 68, 68, 68, 68, 68, 68, 68, 68, 68, 68, 68, 69, 69, 69, 69, 69, 69, 69, 69, 69, 69, 69, 69, 69, 69, 69, 69, 69, 69, 69, 69, 69, 69, 69, 69, 69, 69, 69, 69, 69, 69, 69, 69, 69, 69, 69, 69, 69, 69, 69, 69, 69, 69, 69, 69, 69, 69, 69, 69, 69, 69, 69, 69, 69, 69, 70, 70, 70, 70, 70, 70, 70, 70, 70, 70, 70, 70, 70, 70, 70, 70, 70, 70, 70, 70, 70, 70, 70, 70, 70, 70, 70, 70, 70, 70, 70, 70, 70, 70, 70, 70, 70, 70, 70, 70, 70, 70, 70, 70, 70, 70, 70, 70, 70, 70, 70, 70, 70, 70, 70, 70, 70, 70, 70, 70, 70, 70, 70, 70, 70, 70, 70, 71, 71, 71, 71, 71, 71, 71, 71, 71, 71, 71, 71, 71, 71, 71, 71, 71, 71, 71, 71, 71, 71, 71, 71, 71, 71, 71, 71, 71, 71, 71, 71, 71, 71, 71, 71, 71, 71, 71, 71, 71, 71, 72, 72, 72, 72, 72, 72, 72, 72, 72, 72, 72, 72, 72, 72, 72, 72, 72, 72, 72, 72, 72, 72, 72, 72, 72, 72, 72, 72, 72, 72, 72, 72, 72, 72, 72, 72, 72, 72, 72, 72, 72, 72, 72, 72, 72, 72, 72, 72, 72, 72, 72, 73, 73, 73, 73, 73, 73, 73, 73, 73, 73, 73, 73, 73, 73, 73, 73, 73, 73, 73, 73, 73, 73, 73, 73, 73, 73, 73, 73, 73, 73, 73, 73, 73, 73, 73, 73, 73, 73, 73, 73, 73, 73, 73, 73, 73, 73, 73, 73, 73, 73, 74, 74, 74, 74, 74, 74, 74, 74, 74, 74, 74, 74, 74, 74, 74, 74, 74, 74, 74, 74, 74, 74, 74, 74, 74, 74, 74, 74, 74, 74, 74, 74, 74, 74, 74, 74, 74, 74, 74, 74, 74, 74, 74, 74, 74, 74, 74, 74, 74, 74, 74, 74, 74, 75, 75, 75, 75, 75, 75, 75, 75, 75, 75, 75, 75, 75, 75, 75, 75, 75, 75, 75, 75, 75, 75, 75, 75, 75, 75, 75, 75, 75, 75, 75, 75, 75, 75, 75, 75, 75, 75, 75, 75, 75, 75, 75, 75, 75, 75, 76, 76, 76, 76, 76, 76, 76, 76, 76, 76, 76, 76, 76, 76, 76, 76, 76, 76, 76, 76, 76, 76, 76, 76, 76, 76, 76, 76, 76, 76, 76, 76, 76, 76, 76, 76, 76, 76, 76, 76, 76, 76, 76, 76, 76, 76, 76, 76, 76, 76, 76, 76, 76, 77, 77, 77, 77, 77, 77, 77, 77, 77, 77, 77, 77, 77, 77, 77, 77, 77, 77, 77, 77, 77, 77, 77, 77, 77, 77, 77, 77, 77, 77, 77, 77, 77, 77, 77, 77, 77, 77, 77, 77, 77, 77, 77, 77, 77, 77, 77, 77, 77, 77, 77, 78, 78, 78, 78, 78, 78, 78, 78, 78, 78, 78, 78, 78, 78, 78, 78, 78, 78, 78, 78, 78, 78, 78, 78, 78, 78, 78, 78, 78, 78, 78, 78, 78, 78, 78, 78, 78, 78, 78, 78, 78, 78, 78, 78, 78, 78, 79, 79, 79, 79, 79, 79, 79, 79, 79, 79, 79, 79, 79, 79, 79, 79, 79, 79, 79, 79, 79, 79, 79, 79, 79, 79, 79, 79, 79, 79, 79, 79, 79, 79, 79, 79, 79, 79, 79, 79, 79, 79, 79, 79, 79, 79, 80, 80, 80, 80, 80, 80, 80, 80, 80, 80, 80, 80, 80, 80, 80, 80, 80, 80, 80, 80, 80, 80, 80, 80, 80, 80, 80, 80, 80, 80, 80, 80, 80, 80, 80, 80, 80, 80, 80, 80, 80, 80, 80, 80, 80, 80, 80, 80, 80, 80, 80, 80, 81, 81, 81, 81, 81, 81, 81, 81, 81, 81, 81, 81, 81, 81, 81, 81, 81, 81, 81, 81, 81, 81, 81, 81, 81, 81, 81, 81, 81, 81, 81, 81, 81, 81, 81, 81, 81, 81, 81, 81, 81, 81, 81, 81, 81, 81, 81, 81, 81, 81, 81, 81, 81, 81, 81, 81, 81, 81, 81, 81, 81, 82, 82, 82, 82, 82, 82, 82, 82, 82, 82, 82, 82, 82, 82, 82, 82, 82, 82, 82, 82, 82, 82, 82, 82, 82, 82, 82, 82, 82, 82, 82, 82, 82, 82, 82, 82, 82, 82, 82, 82, 82, 82, 82, 82, 82, 82, 82, 83, 83, 83, 83, 83, 83, 83, 83, 83, 83, 83, 83, 83, 83, 83, 83, 83, 83, 83, 83, 83, 83, 83, 83, 83, 83, 83, 83, 83, 83, 83, 83, 83, 83, 83, 83, 83, 83, 83, 83, 83, 83, 83, 83, 83, 83, 83, 83, 83, 83, 83, 83, 83, 83, 83, 83, 83, 84, 84, 84, 84, 84, 84, 84, 84, 84, 84, 84, 84, 84, 84, 84, 84, 84, 84, 84, 84, 84, 84, 84, 84, 84, 84, 84, 84, 84, 84, 84, 84, 84, 84, 84, 84, 84, 84, 84, 84, 84, 84, 84, 84, 84, 84, 84, 84, 84, 85, 85, 85, 85, 85, 85, 85, 85, 85, 85, 85, 85, 85, 85, 85, 85, 85, 85, 85, 85, 85, 85, 85, 85, 85, 85, 85, 85, 85, 85, 85, 85, 85, 85, 85, 85, 85, 85, 85, 85, 85, 85, 85, 85, 85, 85, 85, 85, 85, 85, 85, 85, 85, 85, 85, 85, 86, 86, 86, 86, 86, 86, 86, 86, 86, 86, 86, 86, 86, 86, 86, 86, 86, 86, 86, 86, 86, 86, 86, 86, 86, 86, 86, 86, 86, 86, 86, 86, 86, 86, 86, 86, 86, 86, 86, 86, 86, 86, 86, 86, 86, 86, 86, 87, 87, 87, 87, 87, 87, 87, 87, 87, 87, 87, 87, 87, 87, 87, 87, 87, 87, 87, 87, 87, 87, 87, 87, 87, 87, 87, 87, 87, 87, 87, 87, 87, 87, 87, 87, 87, 87, 87, 87, 87, 87, 87, 87, 87, 87, 87, 87, 87, 87, 87, 87, 87, 87, 87, 87, 87, 88, 88, 88, 88, 88, 88, 88, 88, 88, 88, 88, 88, 88, 88, 88, 88, 88, 88, 88, 88, 88, 88, 88, 88, 88, 88, 88, 88, 88, 88, 88, 88, 88, 88, 88, 88, 88, 88, 88, 88, 88, 88, 88, 88, 88, 88, 88, 88, 88, 88, 88, 88, 88, 88, 88, 88, 88, 88, 88, 89, 89, 89, 89, 89, 89, 89, 89, 89, 89, 89, 89, 89, 89, 89, 89, 89, 89, 89, 89, 89, 89, 89, 89, 89, 89, 89, 89, 89, 89, 89, 89, 89, 89, 89, 89, 89, 89, 89, 89, 89, 89, 89, 89, 89, 89, 89, 89, 89, 89, 90, 90, 90, 90, 90, 90, 90, 90, 90, 90, 90, 90, 90, 90, 90, 90, 90, 90, 90, 90, 90, 90, 90, 90, 90, 90, 90, 90, 90, 90, 90, 90, 90, 90, 90, 90, 90, 90, 90, 90, 90, 90, 90, 90, 90, 90, 90, 90, 90, 90, 90, 90, 90, 90, 90, 91, 91, 91, 91, 91, 91, 91, 91, 91, 91, 91, 91, 91, 91, 91, 91, 91, 91, 91, 91, 91, 91, 91, 91, 91, 91, 91, 91, 91, 91, 91, 91, 91, 91, 91, 91, 91, 91, 91, 91, 91, 91, 91, 91, 91, 92, 92, 92, 92, 92, 92, 92, 92, 92, 92, 92, 92, 92, 92, 92, 92, 92, 92, 92, 92, 92, 92, 92, 92, 92, 92, 92, 92, 92, 92, 92, 92, 92, 92, 92, 92, 92, 92, 92, 92, 92, 92, 92, 93, 93, 93, 93, 93, 93, 93, 93, 93, 93, 93, 93, 93, 93, 93, 93, 93, 93, 93, 93, 93, 93, 93, 93, 93, 93, 93, 93, 93, 93, 93, 93, 93, 93, 93, 93, 93, 93, 93, 93, 93, 93, 93, 93, 93, 93, 93, 93, 94, 94, 94, 94, 94, 94, 94, 94, 94, 94, 94, 94, 94, 94, 94, 94, 94, 94, 94, 94, 94, 94, 94, 94, 94, 94, 94, 94, 94, 94, 94, 94, 94, 94, 94, 94, 94, 94, 94, 94, 94, 94, 94, 94, 94, 94, 95, 95, 95, 95, 95, 95, 95, 95, 95, 95, 95, 95, 95, 95, 95, 95, 95, 95, 95, 95, 95, 95, 95, 95, 95, 95, 95, 95, 95, 95, 95, 95, 95, 95, 95, 95, 95, 95, 95, 95, 95, 95, 95, 95, 95, 95, 95, 95, 95, 96, 96, 96, 96, 96, 96, 96, 96, 96, 96, 96, 96, 96, 96, 96, 96, 96, 96, 96, 96, 96, 96, 96, 96, 96, 96, 96, 96, 96, 96, 96, 96, 96, 96, 96, 96, 96, 96, 96, 96, 96, 96, 96, 96, 96, 97, 97, 97, 97, 97, 97, 97, 97, 97, 97, 97, 97, 97, 97, 97, 97, 97, 97, 97, 97, 97, 97, 97, 97, 97, 97, 97, 97, 97, 97, 97, 97, 97, 97, 97, 97, 97, 97, 98, 98, 98, 98, 98, 98, 98, 98, 98, 98, 98, 98, 98, 98, 98, 98, 98, 98, 98, 98, 98, 98, 98, 98, 98, 98, 98, 98, 98, 98, 98, 98, 98, 98, 98, 98, 98, 98, 98, 98, 98, 98, 98, 98, 98, 98, 98, 98, 98, 98, 98, 98, 98, 98, 98, 99, 99, 99, 99, 99, 99, 99, 99, 99, 99, 99, 99, 99, 99, 99, 99, 99, 99, 99, 99, 99, 99, 99, 99, 99, 99, 99, 99, 99, 99, 99, 99, 99, 99, 99, 99, 99, 99, 99, 99, 99, 99, 99]\n",
      "1749181216.3275259\n",
      "1749181219.0103607\n",
      "2.683s elapsed\n"
     ]
    }
   ],
   "source": [
    "import time\n",
    "import random\n",
    "\n",
    "#numbers = [5, 1, 4, 2, 8, 7, 6, 9, 11, 14]\n",
    "numbers = random.choices(range(100), k=5000)\n",
    "\n",
    "num_len = len(numbers)\n",
    "\n",
    "def bubbleSort1():\n",
    "    for i in range(num_len):\n",
    "        #print(f'===i={i}')\n",
    "        #for j in range(num_len-1-j): #第二輪開始可以不用比上一輪已經確定最大直排到最後\n",
    "        for j in range(num_len-1):\n",
    "            #print(f'===j={j}')\n",
    "            if numbers[j] > numbers[j+1]:\n",
    "                #print('change')\n",
    "                numbers[j], numbers[j+1] = numbers[j+1], numbers[j]\n",
    "\n",
    "    #print(numbers)\n",
    "\n",
    "\n",
    "time_start = time.time()\n",
    "bubbleSort1()\n",
    "time_end = time.time()\n",
    "\n",
    "#print(time_start)\n",
    "#print(time_end)\n",
    "print(f'{time_end-time_start:.3f}s elapsed')\n"
   ]
  },
  {
   "cell_type": "code",
   "execution_count": 120,
   "id": "e8e1c3bb",
   "metadata": {},
   "outputs": [
    {
     "name": "stdout",
     "output_type": "stream",
     "text": [
      "[1, 2, 3]\n",
      "[100, 2, 3]\n",
      "[100, 2, 3]\n"
     ]
    }
   ],
   "source": [
    "a = [1, 2, 3]\n",
    "print(a)\n",
    "b = a\n",
    "b[0] = 100\n",
    "print(a)\n",
    "print(b)"
   ]
  },
  {
   "cell_type": "code",
   "execution_count": 121,
   "id": "96a819f6",
   "metadata": {},
   "outputs": [
    {
     "name": "stdout",
     "output_type": "stream",
     "text": [
      "[1, 2, 3]\n",
      "[1, 2, 3]\n",
      "[100, 2, 3]\n"
     ]
    }
   ],
   "source": [
    "a = [1, 2, 3]\n",
    "print(a)\n",
    "b = a.copy()\n",
    "b[0] = 100\n",
    "print(a)\n",
    "print(b)"
   ]
  },
  {
   "cell_type": "code",
   "execution_count": 100,
   "id": "09a62922",
   "metadata": {},
   "outputs": [
    {
     "name": "stdout",
     "output_type": "stream",
     "text": [
      "0:5 1:1\n",
      "1:1 2:4\n",
      "2:4 3:2\n",
      "3:2 4:8\n",
      "4:8 5:7\n",
      "5:7 6:6\n"
     ]
    }
   ],
   "source": [
    "numbers = [5, 1, 4, 2, 8, 7, 6]\n",
    "\n",
    "for i, v in enumerate(numbers[:-1]):\n",
    "    print(f'{i}:{v} {i+1}:{numbers[i+1]}')"
   ]
  },
  {
   "cell_type": "markdown",
   "id": "3535d021-d5bd-486d-a3ac-301f252d55a1",
   "metadata": {
    "jp-MarkdownHeadingCollapsed": true
   },
   "source": [
    "## <div id=\"fh\"><font color=\"blue\">9. 檔案處理與分析</font></div>"
   ]
  },
  {
   "cell_type": "markdown",
   "id": "c027b009-920e-4f42-b3a7-d39186967850",
   "metadata": {},
   "source": [
    "## <font color=\"brown\">Log 分析</font>\n",
    "\n",
    "<b>Tech</b>\n",
    "<ol>\n",
    "    <li>open</li>\n",
    "    <li>if-elif-else</li>\n",
    "    <li>Loop</li>\n",
    "    <li>string handling</li>\n",
    "    <li>dict</li>\n",
    "</ol>\n",
    "\n",
    "<b>Tasks</b>\n",
    "<ol>\n",
    "    <li>讀取 log 檔 goodeploy_log.csv 內容，計算各 function 被叫用的次數。輸出的樣式需參閱 Output，項目順序可不同，但格式需完全相同，請注意對齊</li>\n",
    "</ol>\n",
    "\n",
    "\n",
    "<b>Notes</b>\n",
    "<ol>\n",
    "    <li>[CoursesFirestore:get_course] 樣式即為 function name</li>\n",
    "    <li>Function name 需由程式判斷後讀取，不可將如 CoursesFirestore:get_course 等 function name 字樣寫死在程式中</li>\n",
    "</ol>\n",
    "\n",
    "<b>Output</b>\n",
    "\n",
    "<tt>\n",
    "CoursesFirestore:get_course &nbsp;&nbsp;&nbsp;&nbsp;&nbsp; 231 times<br>\n",
    "LineUsersFirestore:get_user &nbsp;&nbsp;&nbsp;&nbsp;&nbsp; 108 times<br>\n",
    "CoursesFirestore:get_courses &nbsp;&nbsp;&nbsp;&nbsp;&nbsp; 16 times<br>\n",
    "LineUsersFirestore:increase &nbsp;&nbsp;&nbsp;&nbsp;&nbsp;&nbsp; 93 times<br>\n",
    "LineUsersFirestore:update_user &nbsp;&nbsp;&nbsp; 13 times<br>\n",
    "LineUsersFirestore:meet_criterion &nbsp; 3 times<br>\n",
    "CoursesFirestore:__init__ &nbsp;&nbsp;&nbsp;&nbsp;&nbsp;&nbsp;&nbsp;&nbsp;&nbsp; 2 times<br>\n",
    "</tt>"
   ]
  },
  {
   "cell_type": "code",
   "execution_count": 185,
   "id": "d2b14c86",
   "metadata": {},
   "outputs": [
    {
     "data": {
      "text/plain": [
       "{'CoursesFirestore:get_course': 231,\n",
       " 'LineUsersFirestore:get_user': 108,\n",
       " 'CoursesFirestore:get_courses': 16,\n",
       " 'LineUsersFirestore:increase': 93,\n",
       " 'LineUsersFirestore:update_user': 13,\n",
       " 'LineUsersFirestore:meet_criterion': 3,\n",
       " 'CoursesFirestore:__init__': 2}"
      ]
     },
     "execution_count": 185,
     "metadata": {},
     "output_type": "execute_result"
    }
   ],
   "source": [
    "list_function=[]\n",
    "\n",
    "target = 'goodeploy_log.csv'\n",
    "with open(target, 'r', encoding='utf-8') as f:\n",
    "    #content = f.read()\n",
    "\n",
    "    for line in f:\n",
    "        list_str = line.split(',')\n",
    "        #print(list_str)\n",
    "        for str in list_str:\n",
    "            #print(f'==str={str}')\n",
    "            #print(f'==str[1]={str[2:3]}')\n",
    "            if str[0:2] == '\"[' and not str[2:3].isdigit():\n",
    "                #print(f'==str={str}')\n",
    "                #print(f'==str[1]={str[2:3]}')\n",
    "                str_function = str[2:str.find(']')] \n",
    "                #print(str_function)\n",
    "                list_function.append(str_function)\n",
    "\n",
    "dict_count = {}\n",
    "for s in list_function:\n",
    "    #print(f'n= {n}')\n",
    "    if s in dict_count:\n",
    "        dict_count[s] += 1\n",
    "    else:\n",
    "        dict_count[s] = 1\n",
    "    \n",
    "    #dict_count[s] = dict_count.get(s, 0) + 1\n",
    "\n",
    "dict_count\n",
    "#print(f'dict_count= {dict_count}')\n",
    "\n",
    "\n"
   ]
  },
  {
   "cell_type": "code",
   "execution_count": 180,
   "id": "c40ed169",
   "metadata": {},
   "outputs": [
    {
     "name": "stdout",
     "output_type": "stream",
     "text": [
      "CoursesFirestore:get_course\n",
      "==str1=o\n",
      "==str[2:3].isnumeric=<built-in method isdigit of str object at 0x00007FFDCB1FE250>\n"
     ]
    }
   ],
   "source": [
    "str1 = 'CoursesFirestore:get_course'\n",
    "str2 = '2024-03-22 07:37:5'\n",
    "\n",
    "print(str1)\n",
    "print(f'==str1={str1[1:2]}')\n",
    "print(f'==str[2:3].isnumeric={str1[1:2].isdigit}')"
   ]
  },
  {
   "cell_type": "markdown",
   "id": "f8b3b2fe",
   "metadata": {},
   "source": []
  },
  {
   "cell_type": "code",
   "execution_count": null,
   "id": "6cf2622c",
   "metadata": {},
   "outputs": [
    {
     "name": "stdout",
     "output_type": "stream",
     "text": [
      "['[CoursesFirestore:get_course]', '[CoursesFirestore:get_course]', '[LineUsersFirestore:get_user]', '[CoursesFirestore:get_courses]', '[LineUsersFirestore:increase]', '[CoursesFirestore:get_course]', '[LineUsersFirestore:get_user]', '[LineUsersFirestore:increase]', '[CoursesFirestore:get_course]', '[LineUsersFirestore:get_user]', '[CoursesFirestore:get_course]', '[LineUsersFirestore:get_user]', '[LineUsersFirestore:increase]', '[CoursesFirestore:get_course]', '[LineUsersFirestore:get_user]', '[LineUsersFirestore:increase]', '[CoursesFirestore:get_course]', '[CoursesFirestore:get_course]', '[LineUsersFirestore:increase]', '[CoursesFirestore:get_course]', '[LineUsersFirestore:get_user]', '[CoursesFirestore:get_course]', '[LineUsersFirestore:get_user]', '[CoursesFirestore:get_course]', '[LineUsersFirestore:update_user]', '[LineUsersFirestore:increase]', '[CoursesFirestore:get_course]', '[CoursesFirestore:get_course]', '[LineUsersFirestore:get_user]', '[CoursesFirestore:get_courses]', '[LineUsersFirestore:increase]', '[CoursesFirestore:get_course]', '[LineUsersFirestore:get_user]', '[CoursesFirestore:get_course]', '[LineUsersFirestore:update_user]', '[LineUsersFirestore:increase]', '[CoursesFirestore:get_course]', '[CoursesFirestore:get_course]', '[LineUsersFirestore:get_user]', '[CoursesFirestore:get_courses]', '[LineUsersFirestore:increase]', '[CoursesFirestore:get_course]', '[CoursesFirestore:get_course]', '[LineUsersFirestore:increase]', '[CoursesFirestore:get_course]', '[LineUsersFirestore:get_user]', '[CoursesFirestore:get_course]', '[LineUsersFirestore:get_user]', '[CoursesFirestore:get_course]', '[LineUsersFirestore:update_user]', '[LineUsersFirestore:increase]', '[CoursesFirestore:get_course]', '[CoursesFirestore:get_course]', '[LineUsersFirestore:get_user]', '[CoursesFirestore:get_courses]', '[LineUsersFirestore:increase]', '[CoursesFirestore:get_course]', '[CoursesFirestore:get_course]', '[LineUsersFirestore:increase]', '[CoursesFirestore:get_course]', '[LineUsersFirestore:get_user]', '[CoursesFirestore:get_course]', '[LineUsersFirestore:get_user]', '[CoursesFirestore:get_course]', '[LineUsersFirestore:update_user]', '[LineUsersFirestore:increase]', '[CoursesFirestore:get_course]', '[CoursesFirestore:get_course]', '[LineUsersFirestore:get_user]', '[CoursesFirestore:get_courses]', '[LineUsersFirestore:increase]', '[CoursesFirestore:get_course]', '[LineUsersFirestore:get_user]', '[CoursesFirestore:get_course]', '[LineUsersFirestore:update_user]', '[LineUsersFirestore:increase]', '[CoursesFirestore:get_course]', '[CoursesFirestore:get_course]', '[LineUsersFirestore:get_user]', '[CoursesFirestore:get_courses]', '[LineUsersFirestore:increase]', '[CoursesFirestore:get_course]', '[LineUsersFirestore:get_user]', '[CoursesFirestore:get_course]', '[LineUsersFirestore:increase]', '[CoursesFirestore:get_course]', '[LineUsersFirestore:get_user]', '[CoursesFirestore:get_course]', '[LineUsersFirestore:get_user]', '[CoursesFirestore:get_course]', '[LineUsersFirestore:update_user]', '[LineUsersFirestore:increase]', '[CoursesFirestore:get_course]', '[CoursesFirestore:get_course]', '[LineUsersFirestore:get_user]', '[CoursesFirestore:get_courses]', '[LineUsersFirestore:increase]', '[CoursesFirestore:get_course]', '[LineUsersFirestore:get_user]', '[CoursesFirestore:get_course]', '[LineUsersFirestore:increase]', '[CoursesFirestore:get_course]', '[LineUsersFirestore:get_user]', '[CoursesFirestore:get_course]', '[LineUsersFirestore:get_user]', '[CoursesFirestore:get_course]', '[LineUsersFirestore:update_user]', '[LineUsersFirestore:increase]', '[CoursesFirestore:get_course]', '[CoursesFirestore:get_course]', '[LineUsersFirestore:get_user]', '[CoursesFirestore:get_courses]', '[LineUsersFirestore:increase]', '[CoursesFirestore:get_course]', '[CoursesFirestore:get_course]', '[LineUsersFirestore:increase]', '[CoursesFirestore:get_course]', '[LineUsersFirestore:get_user]', '[CoursesFirestore:get_course]', '[LineUsersFirestore:get_user]', '[CoursesFirestore:get_course]', '[LineUsersFirestore:update_user]', '[LineUsersFirestore:increase]', '[CoursesFirestore:get_course]', '[CoursesFirestore:get_course]', '[LineUsersFirestore:get_user]', '[CoursesFirestore:get_courses]', '[LineUsersFirestore:increase]', '[CoursesFirestore:get_course]', '[LineUsersFirestore:get_user]', '[CoursesFirestore:get_course]', '[LineUsersFirestore:update_user]', '[LineUsersFirestore:increase]', '[CoursesFirestore:get_course]', '[CoursesFirestore:get_course]', '[LineUsersFirestore:get_user]', '[CoursesFirestore:get_courses]', '[LineUsersFirestore:increase]', '[CoursesFirestore:get_course]', '[CoursesFirestore:get_course]', '[LineUsersFirestore:increase]', '[CoursesFirestore:get_course]', '[LineUsersFirestore:get_user]', '[CoursesFirestore:get_course]', '[LineUsersFirestore:get_user]', '[CoursesFirestore:get_course]', '[LineUsersFirestore:update_user]', '[LineUsersFirestore:increase]', '[CoursesFirestore:get_course]', '[CoursesFirestore:get_course]', '[LineUsersFirestore:get_user]', '[CoursesFirestore:get_courses]', '[LineUsersFirestore:increase]', '[CoursesFirestore:get_course]', '[CoursesFirestore:get_course]', '[LineUsersFirestore:increase]', '[CoursesFirestore:get_course]', '[LineUsersFirestore:get_user]', '[CoursesFirestore:get_course]', '[LineUsersFirestore:get_user]', '[CoursesFirestore:get_course]', '[LineUsersFirestore:update_user]', '[LineUsersFirestore:increase]', '[CoursesFirestore:get_course]', '[CoursesFirestore:get_course]', '[LineUsersFirestore:get_user]', '[CoursesFirestore:get_courses]', '[LineUsersFirestore:increase]', '[CoursesFirestore:get_course]', '[LineUsersFirestore:get_user]', '[CoursesFirestore:get_course]', '[LineUsersFirestore:increase]', '[CoursesFirestore:get_course]', '[LineUsersFirestore:get_user]', '[CoursesFirestore:get_course]', '[LineUsersFirestore:get_user]', '[CoursesFirestore:get_course]', '[LineUsersFirestore:update_user]', '[LineUsersFirestore:increase]', '[CoursesFirestore:get_course]', '[CoursesFirestore:get_course]', '[LineUsersFirestore:get_user]', '[CoursesFirestore:get_courses]', '[LineUsersFirestore:increase]', '[LineUsersFirestore:meet_criterion]', '[LineUsersFirestore:increase]', '[CoursesFirestore:get_course]', '[LineUsersFirestore:get_user]', '[LineUsersFirestore:increase]', '[LineUsersFirestore:increase]', '[CoursesFirestore:get_course]', '[LineUsersFirestore:get_user]', '[CoursesFirestore:get_course]', '[LineUsersFirestore:update_user]', '[LineUsersFirestore:increase]', '[CoursesFirestore:get_course]', '[CoursesFirestore:get_course]', '[LineUsersFirestore:get_user]', '[CoursesFirestore:get_courses]', '[LineUsersFirestore:increase]', '[CoursesFirestore:get_course]', '[CoursesFirestore:get_course]', '[LineUsersFirestore:increase]', '[CoursesFirestore:get_course]', '[LineUsersFirestore:get_user]', '[CoursesFirestore:get_course]', '[LineUsersFirestore:get_user]', '[LineUsersFirestore:increase]', '[CoursesFirestore:get_course]', '[CoursesFirestore:get_course]', '[LineUsersFirestore:get_user]', '[LineUsersFirestore:increase]', '[LineUsersFirestore:meet_criterion]', '[LineUsersFirestore:increase]', '[LineUsersFirestore:meet_criterion]', '[LineUsersFirestore:increase]', '[CoursesFirestore:get_course]', '[LineUsersFirestore:get_user]', '[LineUsersFirestore:increase]', '[CoursesFirestore:get_course]', '[LineUsersFirestore:get_user]', '[LineUsersFirestore:increase]', '[LineUsersFirestore:increase]', '[CoursesFirestore:get_course]', '[CoursesFirestore:get_courses]', '[CoursesFirestore:get_course]', '[LineUsersFirestore:increase]', '[LineUsersFirestore:get_user]', '[CoursesFirestore:get_courses]', '[LineUsersFirestore:increase]', '[LineUsersFirestore:increase]', '[CoursesFirestore:__init__]', '[LineUsersFirestore:get_user]', '[CoursesFirestore:get_course]', '[LineUsersFirestore:get_user]', '[CoursesFirestore:get_course]', '[LineUsersFirestore:increase]', '[CoursesFirestore:get_course]', '[CoursesFirestore:get_course]', '[LineUsersFirestore:get_user]', '[CoursesFirestore:get_course]', '[LineUsersFirestore:increase]', '[CoursesFirestore:get_course]', '[CoursesFirestore:get_course]', '[LineUsersFirestore:get_user]', '[CoursesFirestore:get_course]', '[LineUsersFirestore:increase]', '[CoursesFirestore:get_course]', '[CoursesFirestore:get_course]', '[LineUsersFirestore:get_user]', '[CoursesFirestore:get_course]', '[LineUsersFirestore:increase]', '[CoursesFirestore:get_course]', '[CoursesFirestore:get_course]', '[LineUsersFirestore:get_user]', '[CoursesFirestore:get_course]', '[LineUsersFirestore:get_user]', '[CoursesFirestore:get_course]', '[LineUsersFirestore:increase]', '[CoursesFirestore:get_course]', '[CoursesFirestore:get_course]', '[LineUsersFirestore:get_user]', '[CoursesFirestore:get_course]', '[LineUsersFirestore:increase]', '[CoursesFirestore:get_course]', '[CoursesFirestore:get_course]', '[LineUsersFirestore:get_user]', '[CoursesFirestore:get_course]', '[LineUsersFirestore:get_user]', '[CoursesFirestore:get_course]', '[LineUsersFirestore:increase]', '[CoursesFirestore:get_course]', '[CoursesFirestore:get_course]', '[LineUsersFirestore:get_user]', '[CoursesFirestore:get_course]', '[LineUsersFirestore:increase]', '[CoursesFirestore:get_course]', '[CoursesFirestore:get_course]', '[LineUsersFirestore:get_user]', '[CoursesFirestore:get_course]', '[LineUsersFirestore:increase]', '[CoursesFirestore:get_course]', '[CoursesFirestore:get_course]', '[LineUsersFirestore:get_user]', '[CoursesFirestore:get_course]', '[LineUsersFirestore:get_user]', '[CoursesFirestore:get_course]', '[LineUsersFirestore:increase]', '[CoursesFirestore:get_course]', '[CoursesFirestore:get_course]', '[LineUsersFirestore:get_user]', '[CoursesFirestore:get_course]', '[LineUsersFirestore:get_user]', '[CoursesFirestore:get_course]', '[LineUsersFirestore:increase]', '[CoursesFirestore:get_course]', '[CoursesFirestore:get_course]', '[LineUsersFirestore:get_user]', '[CoursesFirestore:get_course]', '[LineUsersFirestore:increase]', '[CoursesFirestore:get_course]', '[CoursesFirestore:get_course]', '[LineUsersFirestore:get_user]', '[CoursesFirestore:get_course]', '[LineUsersFirestore:increase]', '[CoursesFirestore:get_course]', '[CoursesFirestore:get_course]', '[CoursesFirestore:get_course]', '[LineUsersFirestore:get_user]', '[LineUsersFirestore:get_user]', '[CoursesFirestore:get_course]', '[LineUsersFirestore:increase]', '[CoursesFirestore:get_course]', '[CoursesFirestore:get_course]', '[LineUsersFirestore:get_user]', '[CoursesFirestore:get_course]', '[LineUsersFirestore:increase]', '[CoursesFirestore:get_course]', '[CoursesFirestore:get_course]', '[LineUsersFirestore:get_user]', '[CoursesFirestore:get_course]', '[LineUsersFirestore:get_user]', '[CoursesFirestore:get_course]', '[LineUsersFirestore:increase]', '[CoursesFirestore:get_course]', '[CoursesFirestore:get_course]', '[LineUsersFirestore:get_user]', '[CoursesFirestore:get_course]', '[LineUsersFirestore:increase]', '[CoursesFirestore:get_course]', '[CoursesFirestore:get_course]', '[LineUsersFirestore:get_user]', '[CoursesFirestore:get_course]', '[LineUsersFirestore:increase]', '[CoursesFirestore:get_course]', '[CoursesFirestore:get_course]', '[LineUsersFirestore:get_user]', '[CoursesFirestore:get_course]', '[LineUsersFirestore:get_user]', '[CoursesFirestore:get_course]', '[LineUsersFirestore:increase]', '[CoursesFirestore:get_course]', '[CoursesFirestore:get_course]', '[LineUsersFirestore:get_user]', '[CoursesFirestore:get_course]', '[LineUsersFirestore:increase]', '[CoursesFirestore:get_course]', '[CoursesFirestore:get_course]', '[LineUsersFirestore:get_user]', '[CoursesFirestore:get_course]', '[LineUsersFirestore:increase]', '[CoursesFirestore:get_course]', '[CoursesFirestore:get_course]', '[LineUsersFirestore:get_user]', '[CoursesFirestore:get_course]', '[LineUsersFirestore:get_user]', '[CoursesFirestore:get_course]', '[LineUsersFirestore:increase]', '[CoursesFirestore:get_course]', '[CoursesFirestore:get_course]', '[LineUsersFirestore:get_user]', '[CoursesFirestore:get_course]', '[LineUsersFirestore:increase]', '[CoursesFirestore:get_course]', '[CoursesFirestore:get_course]', '[LineUsersFirestore:get_user]', '[CoursesFirestore:get_course]', '[LineUsersFirestore:get_user]', '[CoursesFirestore:get_course]', '[LineUsersFirestore:increase]', '[CoursesFirestore:get_course]', '[CoursesFirestore:get_course]', '[LineUsersFirestore:get_user]', '[CoursesFirestore:get_course]', '[LineUsersFirestore:increase]', '[CoursesFirestore:get_course]', '[CoursesFirestore:get_course]', '[LineUsersFirestore:get_user]', '[CoursesFirestore:get_course]', '[LineUsersFirestore:get_user]', '[CoursesFirestore:get_course]', '[LineUsersFirestore:increase]', '[CoursesFirestore:get_course]', '[CoursesFirestore:get_course]', '[LineUsersFirestore:get_user]', '[CoursesFirestore:get_course]', '[LineUsersFirestore:get_user]', '[CoursesFirestore:get_course]', '[LineUsersFirestore:increase]', '[CoursesFirestore:get_course]', '[CoursesFirestore:get_course]', '[LineUsersFirestore:get_user]', '[CoursesFirestore:get_course]', '[LineUsersFirestore:increase]', '[CoursesFirestore:get_course]', '[CoursesFirestore:get_course]', '[LineUsersFirestore:get_user]', '[CoursesFirestore:get_course]', '[LineUsersFirestore:increase]', '[CoursesFirestore:get_course]', '[CoursesFirestore:get_course]', '[LineUsersFirestore:get_user]', '[CoursesFirestore:get_course]', '[LineUsersFirestore:increase]', '[CoursesFirestore:get_course]', '[LineUsersFirestore:get_user]', '[CoursesFirestore:get_course]', '[LineUsersFirestore:increase]', '[CoursesFirestore:get_course]', '[CoursesFirestore:get_course]', '[LineUsersFirestore:get_user]', '[CoursesFirestore:get_course]', '[LineUsersFirestore:get_user]', '[CoursesFirestore:get_course]', '[LineUsersFirestore:increase]', '[CoursesFirestore:get_course]', '[CoursesFirestore:get_course]', '[LineUsersFirestore:get_user]', '[CoursesFirestore:get_course]', '[LineUsersFirestore:increase]', '[CoursesFirestore:get_course]', '[CoursesFirestore:get_course]', '[LineUsersFirestore:get_user]', '[CoursesFirestore:get_course]', '[LineUsersFirestore:increase]', '[CoursesFirestore:get_course]', '[CoursesFirestore:get_course]', '[LineUsersFirestore:get_user]', '[CoursesFirestore:get_course]', '[LineUsersFirestore:get_user]', '[CoursesFirestore:get_course]', '[LineUsersFirestore:increase]', '[CoursesFirestore:get_course]', '[CoursesFirestore:get_course]', '[LineUsersFirestore:get_user]', '[CoursesFirestore:get_course]', '[LineUsersFirestore:increase]', '[CoursesFirestore:get_course]', '[CoursesFirestore:get_course]', '[LineUsersFirestore:get_user]', '[CoursesFirestore:get_course]', '[LineUsersFirestore:increase]', '[CoursesFirestore:get_course]', '[LineUsersFirestore:get_user]', '[CoursesFirestore:get_course]', '[LineUsersFirestore:get_user]', '[CoursesFirestore:get_course]', '[LineUsersFirestore:increase]', '[CoursesFirestore:get_course]', '[CoursesFirestore:get_course]', '[LineUsersFirestore:get_user]', '[CoursesFirestore:get_course]', '[LineUsersFirestore:get_user]', '[CoursesFirestore:get_course]', '[LineUsersFirestore:increase]', '[CoursesFirestore:get_course]', '[CoursesFirestore:get_course]', '[LineUsersFirestore:get_user]', '[CoursesFirestore:get_course]', '[LineUsersFirestore:get_user]', '[CoursesFirestore:get_course]', '[LineUsersFirestore:increase]', '[CoursesFirestore:get_course]', '[CoursesFirestore:get_course]', '[LineUsersFirestore:get_user]', '[CoursesFirestore:__init__]']\n",
      "{0: '[CoursesFirestore:get_course]', 1: '[CoursesFirestore:get_course]', 2: '[LineUsersFirestore:get_user]', 3: '[CoursesFirestore:get_courses]', 4: '[LineUsersFirestore:increase]', 5: '[CoursesFirestore:get_course]', 6: '[LineUsersFirestore:get_user]', 7: '[LineUsersFirestore:increase]', 8: '[CoursesFirestore:get_course]', 9: '[LineUsersFirestore:get_user]', 10: '[CoursesFirestore:get_course]', 11: '[LineUsersFirestore:get_user]', 12: '[LineUsersFirestore:increase]', 13: '[CoursesFirestore:get_course]', 14: '[LineUsersFirestore:get_user]', 15: '[LineUsersFirestore:increase]', 16: '[CoursesFirestore:get_course]', 17: '[CoursesFirestore:get_course]', 18: '[LineUsersFirestore:increase]', 19: '[CoursesFirestore:get_course]', 20: '[LineUsersFirestore:get_user]', 21: '[CoursesFirestore:get_course]', 22: '[LineUsersFirestore:get_user]', 23: '[CoursesFirestore:get_course]', 24: '[LineUsersFirestore:update_user]', 25: '[LineUsersFirestore:increase]', 26: '[CoursesFirestore:get_course]', 27: '[CoursesFirestore:get_course]', 28: '[LineUsersFirestore:get_user]', 29: '[CoursesFirestore:get_courses]', 30: '[LineUsersFirestore:increase]', 31: '[CoursesFirestore:get_course]', 32: '[LineUsersFirestore:get_user]', 33: '[CoursesFirestore:get_course]', 34: '[LineUsersFirestore:update_user]', 35: '[LineUsersFirestore:increase]', 36: '[CoursesFirestore:get_course]', 37: '[CoursesFirestore:get_course]', 38: '[LineUsersFirestore:get_user]', 39: '[CoursesFirestore:get_courses]', 40: '[LineUsersFirestore:increase]', 41: '[CoursesFirestore:get_course]', 42: '[CoursesFirestore:get_course]', 43: '[LineUsersFirestore:increase]', 44: '[CoursesFirestore:get_course]', 45: '[LineUsersFirestore:get_user]', 46: '[CoursesFirestore:get_course]', 47: '[LineUsersFirestore:get_user]', 48: '[CoursesFirestore:get_course]', 49: '[LineUsersFirestore:update_user]', 50: '[LineUsersFirestore:increase]', 51: '[CoursesFirestore:get_course]', 52: '[CoursesFirestore:get_course]', 53: '[LineUsersFirestore:get_user]', 54: '[CoursesFirestore:get_courses]', 55: '[LineUsersFirestore:increase]', 56: '[CoursesFirestore:get_course]', 57: '[CoursesFirestore:get_course]', 58: '[LineUsersFirestore:increase]', 59: '[CoursesFirestore:get_course]', 60: '[LineUsersFirestore:get_user]', 61: '[CoursesFirestore:get_course]', 62: '[LineUsersFirestore:get_user]', 63: '[CoursesFirestore:get_course]', 64: '[LineUsersFirestore:update_user]', 65: '[LineUsersFirestore:increase]', 66: '[CoursesFirestore:get_course]', 67: '[CoursesFirestore:get_course]', 68: '[LineUsersFirestore:get_user]', 69: '[CoursesFirestore:get_courses]', 70: '[LineUsersFirestore:increase]', 71: '[CoursesFirestore:get_course]', 72: '[LineUsersFirestore:get_user]', 73: '[CoursesFirestore:get_course]', 74: '[LineUsersFirestore:update_user]', 75: '[LineUsersFirestore:increase]', 76: '[CoursesFirestore:get_course]', 77: '[CoursesFirestore:get_course]', 78: '[LineUsersFirestore:get_user]', 79: '[CoursesFirestore:get_courses]', 80: '[LineUsersFirestore:increase]', 81: '[CoursesFirestore:get_course]', 82: '[LineUsersFirestore:get_user]', 83: '[CoursesFirestore:get_course]', 84: '[LineUsersFirestore:increase]', 85: '[CoursesFirestore:get_course]', 86: '[LineUsersFirestore:get_user]', 87: '[CoursesFirestore:get_course]', 88: '[LineUsersFirestore:get_user]', 89: '[CoursesFirestore:get_course]', 90: '[LineUsersFirestore:update_user]', 91: '[LineUsersFirestore:increase]', 92: '[CoursesFirestore:get_course]', 93: '[CoursesFirestore:get_course]', 94: '[LineUsersFirestore:get_user]', 95: '[CoursesFirestore:get_courses]', 96: '[LineUsersFirestore:increase]', 97: '[CoursesFirestore:get_course]', 98: '[LineUsersFirestore:get_user]', 99: '[CoursesFirestore:get_course]', 100: '[LineUsersFirestore:increase]', 101: '[CoursesFirestore:get_course]', 102: '[LineUsersFirestore:get_user]', 103: '[CoursesFirestore:get_course]', 104: '[LineUsersFirestore:get_user]', 105: '[CoursesFirestore:get_course]', 106: '[LineUsersFirestore:update_user]', 107: '[LineUsersFirestore:increase]', 108: '[CoursesFirestore:get_course]', 109: '[CoursesFirestore:get_course]', 110: '[LineUsersFirestore:get_user]', 111: '[CoursesFirestore:get_courses]', 112: '[LineUsersFirestore:increase]', 113: '[CoursesFirestore:get_course]', 114: '[CoursesFirestore:get_course]', 115: '[LineUsersFirestore:increase]', 116: '[CoursesFirestore:get_course]', 117: '[LineUsersFirestore:get_user]', 118: '[CoursesFirestore:get_course]', 119: '[LineUsersFirestore:get_user]', 120: '[CoursesFirestore:get_course]', 121: '[LineUsersFirestore:update_user]', 122: '[LineUsersFirestore:increase]', 123: '[CoursesFirestore:get_course]', 124: '[CoursesFirestore:get_course]', 125: '[LineUsersFirestore:get_user]', 126: '[CoursesFirestore:get_courses]', 127: '[LineUsersFirestore:increase]', 128: '[CoursesFirestore:get_course]', 129: '[LineUsersFirestore:get_user]', 130: '[CoursesFirestore:get_course]', 131: '[LineUsersFirestore:update_user]', 132: '[LineUsersFirestore:increase]', 133: '[CoursesFirestore:get_course]', 134: '[CoursesFirestore:get_course]', 135: '[LineUsersFirestore:get_user]', 136: '[CoursesFirestore:get_courses]', 137: '[LineUsersFirestore:increase]', 138: '[CoursesFirestore:get_course]', 139: '[CoursesFirestore:get_course]', 140: '[LineUsersFirestore:increase]', 141: '[CoursesFirestore:get_course]', 142: '[LineUsersFirestore:get_user]', 143: '[CoursesFirestore:get_course]', 144: '[LineUsersFirestore:get_user]', 145: '[CoursesFirestore:get_course]', 146: '[LineUsersFirestore:update_user]', 147: '[LineUsersFirestore:increase]', 148: '[CoursesFirestore:get_course]', 149: '[CoursesFirestore:get_course]', 150: '[LineUsersFirestore:get_user]', 151: '[CoursesFirestore:get_courses]', 152: '[LineUsersFirestore:increase]', 153: '[CoursesFirestore:get_course]', 154: '[CoursesFirestore:get_course]', 155: '[LineUsersFirestore:increase]', 156: '[CoursesFirestore:get_course]', 157: '[LineUsersFirestore:get_user]', 158: '[CoursesFirestore:get_course]', 159: '[LineUsersFirestore:get_user]', 160: '[CoursesFirestore:get_course]', 161: '[LineUsersFirestore:update_user]', 162: '[LineUsersFirestore:increase]', 163: '[CoursesFirestore:get_course]', 164: '[CoursesFirestore:get_course]', 165: '[LineUsersFirestore:get_user]', 166: '[CoursesFirestore:get_courses]', 167: '[LineUsersFirestore:increase]', 168: '[CoursesFirestore:get_course]', 169: '[LineUsersFirestore:get_user]', 170: '[CoursesFirestore:get_course]', 171: '[LineUsersFirestore:increase]', 172: '[CoursesFirestore:get_course]', 173: '[LineUsersFirestore:get_user]', 174: '[CoursesFirestore:get_course]', 175: '[LineUsersFirestore:get_user]', 176: '[CoursesFirestore:get_course]', 177: '[LineUsersFirestore:update_user]', 178: '[LineUsersFirestore:increase]', 179: '[CoursesFirestore:get_course]', 180: '[CoursesFirestore:get_course]', 181: '[LineUsersFirestore:get_user]', 182: '[CoursesFirestore:get_courses]', 183: '[LineUsersFirestore:increase]', 184: '[LineUsersFirestore:meet_criterion]', 185: '[LineUsersFirestore:increase]', 186: '[CoursesFirestore:get_course]', 187: '[LineUsersFirestore:get_user]', 188: '[LineUsersFirestore:increase]', 189: '[LineUsersFirestore:increase]', 190: '[CoursesFirestore:get_course]', 191: '[LineUsersFirestore:get_user]', 192: '[CoursesFirestore:get_course]', 193: '[LineUsersFirestore:update_user]', 194: '[LineUsersFirestore:increase]', 195: '[CoursesFirestore:get_course]', 196: '[CoursesFirestore:get_course]', 197: '[LineUsersFirestore:get_user]', 198: '[CoursesFirestore:get_courses]', 199: '[LineUsersFirestore:increase]', 200: '[CoursesFirestore:get_course]', 201: '[CoursesFirestore:get_course]', 202: '[LineUsersFirestore:increase]', 203: '[CoursesFirestore:get_course]', 204: '[LineUsersFirestore:get_user]', 205: '[CoursesFirestore:get_course]', 206: '[LineUsersFirestore:get_user]', 207: '[LineUsersFirestore:increase]', 208: '[CoursesFirestore:get_course]', 209: '[CoursesFirestore:get_course]', 210: '[LineUsersFirestore:get_user]', 211: '[LineUsersFirestore:increase]', 212: '[LineUsersFirestore:meet_criterion]', 213: '[LineUsersFirestore:increase]', 214: '[LineUsersFirestore:meet_criterion]', 215: '[LineUsersFirestore:increase]', 216: '[CoursesFirestore:get_course]', 217: '[LineUsersFirestore:get_user]', 218: '[LineUsersFirestore:increase]', 219: '[CoursesFirestore:get_course]', 220: '[LineUsersFirestore:get_user]', 221: '[LineUsersFirestore:increase]', 222: '[LineUsersFirestore:increase]', 223: '[CoursesFirestore:get_course]', 224: '[CoursesFirestore:get_courses]', 225: '[CoursesFirestore:get_course]', 226: '[LineUsersFirestore:increase]', 227: '[LineUsersFirestore:get_user]', 228: '[CoursesFirestore:get_courses]', 229: '[LineUsersFirestore:increase]', 230: '[LineUsersFirestore:increase]', 231: '[CoursesFirestore:__init__]', 232: '[LineUsersFirestore:get_user]', 233: '[CoursesFirestore:get_course]', 234: '[LineUsersFirestore:get_user]', 235: '[CoursesFirestore:get_course]', 236: '[LineUsersFirestore:increase]', 237: '[CoursesFirestore:get_course]', 238: '[CoursesFirestore:get_course]', 239: '[LineUsersFirestore:get_user]', 240: '[CoursesFirestore:get_course]', 241: '[LineUsersFirestore:increase]', 242: '[CoursesFirestore:get_course]', 243: '[CoursesFirestore:get_course]', 244: '[LineUsersFirestore:get_user]', 245: '[CoursesFirestore:get_course]', 246: '[LineUsersFirestore:increase]', 247: '[CoursesFirestore:get_course]', 248: '[CoursesFirestore:get_course]', 249: '[LineUsersFirestore:get_user]', 250: '[CoursesFirestore:get_course]', 251: '[LineUsersFirestore:increase]', 252: '[CoursesFirestore:get_course]', 253: '[CoursesFirestore:get_course]', 254: '[LineUsersFirestore:get_user]', 255: '[CoursesFirestore:get_course]', 256: '[LineUsersFirestore:get_user]', 257: '[CoursesFirestore:get_course]', 258: '[LineUsersFirestore:increase]', 259: '[CoursesFirestore:get_course]', 260: '[CoursesFirestore:get_course]', 261: '[LineUsersFirestore:get_user]', 262: '[CoursesFirestore:get_course]', 263: '[LineUsersFirestore:increase]', 264: '[CoursesFirestore:get_course]', 265: '[CoursesFirestore:get_course]', 266: '[LineUsersFirestore:get_user]', 267: '[CoursesFirestore:get_course]', 268: '[LineUsersFirestore:get_user]', 269: '[CoursesFirestore:get_course]', 270: '[LineUsersFirestore:increase]', 271: '[CoursesFirestore:get_course]', 272: '[CoursesFirestore:get_course]', 273: '[LineUsersFirestore:get_user]', 274: '[CoursesFirestore:get_course]', 275: '[LineUsersFirestore:increase]', 276: '[CoursesFirestore:get_course]', 277: '[CoursesFirestore:get_course]', 278: '[LineUsersFirestore:get_user]', 279: '[CoursesFirestore:get_course]', 280: '[LineUsersFirestore:increase]', 281: '[CoursesFirestore:get_course]', 282: '[CoursesFirestore:get_course]', 283: '[LineUsersFirestore:get_user]', 284: '[CoursesFirestore:get_course]', 285: '[LineUsersFirestore:get_user]', 286: '[CoursesFirestore:get_course]', 287: '[LineUsersFirestore:increase]', 288: '[CoursesFirestore:get_course]', 289: '[CoursesFirestore:get_course]', 290: '[LineUsersFirestore:get_user]', 291: '[CoursesFirestore:get_course]', 292: '[LineUsersFirestore:get_user]', 293: '[CoursesFirestore:get_course]', 294: '[LineUsersFirestore:increase]', 295: '[CoursesFirestore:get_course]', 296: '[CoursesFirestore:get_course]', 297: '[LineUsersFirestore:get_user]', 298: '[CoursesFirestore:get_course]', 299: '[LineUsersFirestore:increase]', 300: '[CoursesFirestore:get_course]', 301: '[CoursesFirestore:get_course]', 302: '[LineUsersFirestore:get_user]', 303: '[CoursesFirestore:get_course]', 304: '[LineUsersFirestore:increase]', 305: '[CoursesFirestore:get_course]', 306: '[CoursesFirestore:get_course]', 307: '[CoursesFirestore:get_course]', 308: '[LineUsersFirestore:get_user]', 309: '[LineUsersFirestore:get_user]', 310: '[CoursesFirestore:get_course]', 311: '[LineUsersFirestore:increase]', 312: '[CoursesFirestore:get_course]', 313: '[CoursesFirestore:get_course]', 314: '[LineUsersFirestore:get_user]', 315: '[CoursesFirestore:get_course]', 316: '[LineUsersFirestore:increase]', 317: '[CoursesFirestore:get_course]', 318: '[CoursesFirestore:get_course]', 319: '[LineUsersFirestore:get_user]', 320: '[CoursesFirestore:get_course]', 321: '[LineUsersFirestore:get_user]', 322: '[CoursesFirestore:get_course]', 323: '[LineUsersFirestore:increase]', 324: '[CoursesFirestore:get_course]', 325: '[CoursesFirestore:get_course]', 326: '[LineUsersFirestore:get_user]', 327: '[CoursesFirestore:get_course]', 328: '[LineUsersFirestore:increase]', 329: '[CoursesFirestore:get_course]', 330: '[CoursesFirestore:get_course]', 331: '[LineUsersFirestore:get_user]', 332: '[CoursesFirestore:get_course]', 333: '[LineUsersFirestore:increase]', 334: '[CoursesFirestore:get_course]', 335: '[CoursesFirestore:get_course]', 336: '[LineUsersFirestore:get_user]', 337: '[CoursesFirestore:get_course]', 338: '[LineUsersFirestore:get_user]', 339: '[CoursesFirestore:get_course]', 340: '[LineUsersFirestore:increase]', 341: '[CoursesFirestore:get_course]', 342: '[CoursesFirestore:get_course]', 343: '[LineUsersFirestore:get_user]', 344: '[CoursesFirestore:get_course]', 345: '[LineUsersFirestore:increase]', 346: '[CoursesFirestore:get_course]', 347: '[CoursesFirestore:get_course]', 348: '[LineUsersFirestore:get_user]', 349: '[CoursesFirestore:get_course]', 350: '[LineUsersFirestore:increase]', 351: '[CoursesFirestore:get_course]', 352: '[CoursesFirestore:get_course]', 353: '[LineUsersFirestore:get_user]', 354: '[CoursesFirestore:get_course]', 355: '[LineUsersFirestore:get_user]', 356: '[CoursesFirestore:get_course]', 357: '[LineUsersFirestore:increase]', 358: '[CoursesFirestore:get_course]', 359: '[CoursesFirestore:get_course]', 360: '[LineUsersFirestore:get_user]', 361: '[CoursesFirestore:get_course]', 362: '[LineUsersFirestore:increase]', 363: '[CoursesFirestore:get_course]', 364: '[CoursesFirestore:get_course]', 365: '[LineUsersFirestore:get_user]', 366: '[CoursesFirestore:get_course]', 367: '[LineUsersFirestore:get_user]', 368: '[CoursesFirestore:get_course]', 369: '[LineUsersFirestore:increase]', 370: '[CoursesFirestore:get_course]', 371: '[CoursesFirestore:get_course]', 372: '[LineUsersFirestore:get_user]', 373: '[CoursesFirestore:get_course]', 374: '[LineUsersFirestore:increase]', 375: '[CoursesFirestore:get_course]', 376: '[CoursesFirestore:get_course]', 377: '[LineUsersFirestore:get_user]', 378: '[CoursesFirestore:get_course]', 379: '[LineUsersFirestore:get_user]', 380: '[CoursesFirestore:get_course]', 381: '[LineUsersFirestore:increase]', 382: '[CoursesFirestore:get_course]', 383: '[CoursesFirestore:get_course]', 384: '[LineUsersFirestore:get_user]', 385: '[CoursesFirestore:get_course]', 386: '[LineUsersFirestore:get_user]', 387: '[CoursesFirestore:get_course]', 388: '[LineUsersFirestore:increase]', 389: '[CoursesFirestore:get_course]', 390: '[CoursesFirestore:get_course]', 391: '[LineUsersFirestore:get_user]', 392: '[CoursesFirestore:get_course]', 393: '[LineUsersFirestore:increase]', 394: '[CoursesFirestore:get_course]', 395: '[CoursesFirestore:get_course]', 396: '[LineUsersFirestore:get_user]', 397: '[CoursesFirestore:get_course]', 398: '[LineUsersFirestore:increase]', 399: '[CoursesFirestore:get_course]', 400: '[CoursesFirestore:get_course]', 401: '[LineUsersFirestore:get_user]', 402: '[CoursesFirestore:get_course]', 403: '[LineUsersFirestore:increase]', 404: '[CoursesFirestore:get_course]', 405: '[LineUsersFirestore:get_user]', 406: '[CoursesFirestore:get_course]', 407: '[LineUsersFirestore:increase]', 408: '[CoursesFirestore:get_course]', 409: '[CoursesFirestore:get_course]', 410: '[LineUsersFirestore:get_user]', 411: '[CoursesFirestore:get_course]', 412: '[LineUsersFirestore:get_user]', 413: '[CoursesFirestore:get_course]', 414: '[LineUsersFirestore:increase]', 415: '[CoursesFirestore:get_course]', 416: '[CoursesFirestore:get_course]', 417: '[LineUsersFirestore:get_user]', 418: '[CoursesFirestore:get_course]', 419: '[LineUsersFirestore:increase]', 420: '[CoursesFirestore:get_course]', 421: '[CoursesFirestore:get_course]', 422: '[LineUsersFirestore:get_user]', 423: '[CoursesFirestore:get_course]', 424: '[LineUsersFirestore:increase]', 425: '[CoursesFirestore:get_course]', 426: '[CoursesFirestore:get_course]', 427: '[LineUsersFirestore:get_user]', 428: '[CoursesFirestore:get_course]', 429: '[LineUsersFirestore:get_user]', 430: '[CoursesFirestore:get_course]', 431: '[LineUsersFirestore:increase]', 432: '[CoursesFirestore:get_course]', 433: '[CoursesFirestore:get_course]', 434: '[LineUsersFirestore:get_user]', 435: '[CoursesFirestore:get_course]', 436: '[LineUsersFirestore:increase]', 437: '[CoursesFirestore:get_course]', 438: '[CoursesFirestore:get_course]', 439: '[LineUsersFirestore:get_user]', 440: '[CoursesFirestore:get_course]', 441: '[LineUsersFirestore:increase]', 442: '[CoursesFirestore:get_course]', 443: '[LineUsersFirestore:get_user]', 444: '[CoursesFirestore:get_course]', 445: '[LineUsersFirestore:get_user]', 446: '[CoursesFirestore:get_course]', 447: '[LineUsersFirestore:increase]', 448: '[CoursesFirestore:get_course]', 449: '[CoursesFirestore:get_course]', 450: '[LineUsersFirestore:get_user]', 451: '[CoursesFirestore:get_course]', 452: '[LineUsersFirestore:get_user]', 453: '[CoursesFirestore:get_course]', 454: '[LineUsersFirestore:increase]', 455: '[CoursesFirestore:get_course]', 456: '[CoursesFirestore:get_course]', 457: '[LineUsersFirestore:get_user]', 458: '[CoursesFirestore:get_course]', 459: '[LineUsersFirestore:get_user]', 460: '[CoursesFirestore:get_course]', 461: '[LineUsersFirestore:increase]', 462: '[CoursesFirestore:get_course]', 463: '[CoursesFirestore:get_course]', 464: '[LineUsersFirestore:get_user]', 465: '[CoursesFirestore:__init__]'}\n",
      "[CoursesFirestore:get_course]: 231\n",
      "[LineUsersFirestore:get_user]: 108\n",
      "[CoursesFirestore:get_courses]: 16\n",
      "[LineUsersFirestore:increase]: 93\n",
      "[LineUsersFirestore:update_user]: 13\n",
      "[LineUsersFirestore:meet_criterion]: 3\n",
      "[CoursesFirestore:__init__]: 2\n"
     ]
    }
   ],
   "source": [
    "\n",
    "matches = re.findall(r'\\[[A-Za-z_]+:[A-Za-z_]+\\]', log_data)\n",
    "print(matches)\n",
    "\n",
    "matches_dict = {i: v for i, v in enumerate(matches)}\n",
    "print(matches_dict)\n",
    "\n",
    "counter = Counter(matches)\n",
    "for tag, count in counter.items():\n",
    "    print(f\"{tag}: {count}\")"
   ]
  },
  {
   "cell_type": "markdown",
   "id": "8fbfbc9a-88ad-4317-ad75-be6129b84fee",
   "metadata": {},
   "source": [
    "## <div id=\"csv\"><font color=\"blue\">10. 檔案處理與分析</font></div>"
   ]
  },
  {
   "cell_type": "markdown",
   "id": "b889dc8a-89de-433b-88df-25d59e237b5a",
   "metadata": {},
   "source": [
    "## <font color=\"brown\">CSV 分析</font>\n",
    "\n",
    "<b>Tech</b>\n",
    "<ol>\n",
    "    <li>open</li>\n",
    "    <li>if-elif-else</li>\n",
    "    <li>Loop</li>\n",
    "    <li>pandas</li>\n",
    "</ol>\n",
    "\n",
    "<b>Tasks</b>\n",
    "<ol>\n",
    "    <li>讀取 orders.csv，找出所有數量大於 10,000 的訂單代號，以 list 形式儲存於 orders</li>\n",
    "    <li>以 pandas 完成上述任務</li>\n",
    "</ol>"
   ]
  },
  {
   "cell_type": "code",
   "execution_count": null,
   "id": "4e0b6bea",
   "metadata": {},
   "outputs": [
    {
     "name": "stdout",
     "output_type": "stream",
     "text": [
      "['R0003', 'R0004', 'R0007', 'R0011', 'R0013', 'R0014', 'R0016', 'R0017', 'R0018', 'R0020', 'R0021', 'R0029', 'R0031', 'R0037', 'R0042', 'R0045', 'R0046', 'R0051', 'R0052', 'R0069', 'R0077', 'R0078', 'R0084', 'R0086', 'R0091', 'R0099', 'R0100', 'R0103', 'R0115', 'R0117', 'R0118', 'R0121', 'R0124', 'R0127', 'R0129', 'R0133', 'R0134', 'R0136', 'R0139', 'R0142', 'R0144', 'R0145', 'R0146', 'R0147', 'R0150', 'R0152', 'R0153', 'R0154', 'R0155', 'R0162', 'R0171', 'R0173', 'R0184']\n"
     ]
    }
   ],
   "source": [
    "with open('orders.csv', encoding='utf-8') as f: \n",
    "    rows = f.readlines()[1:]  ## skip header\n",
    "\n",
    "orders = []\n",
    "list_rows2 = []\n",
    "for r in rows:\n",
    "    tmp = r.rstrip().split(',')\n",
    "    q = int(tmp[-1])\n",
    "    if q > 10000:\n",
    "        orders.append(tmp[0])\n",
    "\n",
    "print(orders)"
   ]
  },
  {
   "cell_type": "code",
   "execution_count": 1,
   "id": "0e4a3a5e",
   "metadata": {},
   "outputs": [
    {
     "name": "stdout",
     "output_type": "stream",
     "text": [
      "Collecting pandas\n",
      "  Downloading pandas-2.3.0-cp313-cp313-win_amd64.whl.metadata (19 kB)\n",
      "Collecting numpy>=1.26.0 (from pandas)\n",
      "  Downloading numpy-2.3.0-cp313-cp313-win_amd64.whl.metadata (60 kB)\n",
      "Requirement already satisfied: python-dateutil>=2.8.2 in c:\\users\\vboxuser\\appdata\\roaming\\python\\python313\\site-packages (from pandas) (2.9.0.post0)\n",
      "Collecting pytz>=2020.1 (from pandas)\n",
      "  Using cached pytz-2025.2-py2.py3-none-any.whl.metadata (22 kB)\n",
      "Collecting tzdata>=2022.7 (from pandas)\n",
      "  Using cached tzdata-2025.2-py2.py3-none-any.whl.metadata (1.4 kB)\n",
      "Requirement already satisfied: six>=1.5 in c:\\users\\vboxuser\\appdata\\roaming\\python\\python313\\site-packages (from python-dateutil>=2.8.2->pandas) (1.17.0)\n",
      "Downloading pandas-2.3.0-cp313-cp313-win_amd64.whl (11.0 MB)\n",
      "   ---------------------------------------- 0.0/11.0 MB ? eta -:--:--\n",
      "   -- ------------------------------------- 0.8/11.0 MB 6.5 MB/s eta 0:00:02\n",
      "   ----------------- ---------------------- 4.7/11.0 MB 15.1 MB/s eta 0:00:01\n",
      "   ---------------------------------------  10.7/11.0 MB 22.2 MB/s eta 0:00:01\n",
      "   ---------------------------------------- 11.0/11.0 MB 20.8 MB/s eta 0:00:00\n",
      "Downloading numpy-2.3.0-cp313-cp313-win_amd64.whl (12.7 MB)\n",
      "   ---------------------------------------- 0.0/12.7 MB ? eta -:--:--\n",
      "   --------------------- ------------------ 6.8/12.7 MB 34.5 MB/s eta 0:00:01\n",
      "   ---------------------------------------- 12.7/12.7 MB 31.9 MB/s eta 0:00:00\n",
      "Using cached pytz-2025.2-py2.py3-none-any.whl (509 kB)\n",
      "Using cached tzdata-2025.2-py2.py3-none-any.whl (347 kB)\n",
      "Installing collected packages: pytz, tzdata, numpy, pandas\n",
      "Successfully installed numpy-2.3.0 pandas-2.3.0 pytz-2025.2 tzdata-2025.2\n"
     ]
    },
    {
     "name": "stderr",
     "output_type": "stream",
     "text": [
      "\n",
      "[notice] A new release of pip is available: 24.2 -> 25.1.1\n",
      "[notice] To update, run: python.exe -m pip install --upgrade pip\n"
     ]
    }
   ],
   "source": [
    "!pip install pandas"
   ]
  },
  {
   "cell_type": "code",
   "execution_count": 8,
   "id": "55a3bfc0",
   "metadata": {},
   "outputs": [
    {
     "name": "stdout",
     "output_type": "stream",
     "text": [
      "['R0003', 'R0004', 'R0007', 'R0011', 'R0013', 'R0014', 'R0016', 'R0017', 'R0018', 'R0020', 'R0021', 'R0029', 'R0031', 'R0037', 'R0042', 'R0045', 'R0046', 'R0051', 'R0052', 'R0069', 'R0077', 'R0078', 'R0084', 'R0086', 'R0091', 'R0099', 'R0100', 'R0103', 'R0115', 'R0117', 'R0118', 'R0121', 'R0124', 'R0127', 'R0129', 'R0133', 'R0134', 'R0136', 'R0139', 'R0142', 'R0144', 'R0145', 'R0146', 'R0147', 'R0150', 'R0152', 'R0153', 'R0154', 'R0155', 'R0162', 'R0171', 'R0173', 'R0184']\n"
     ]
    }
   ],
   "source": [
    "#!pip install pandas\n",
    "import pandas as pd\n",
    "\n",
    "df = pd.read_csv('orders.csv')\n",
    "print(df['order_code'][df['quantity'] > 10000].to_list())\n"
   ]
  },
  {
   "cell_type": "markdown",
   "id": "19f92c35-6c03-485e-8eed-c84d8935e5f5",
   "metadata": {},
   "source": [
    "## <div id=\"dfh\"><font color=\"blue\">11. 目錄與檔案處理</font></div>"
   ]
  },
  {
   "cell_type": "markdown",
   "id": "d1adf654-44bb-4221-b9a8-62dde49c4028",
   "metadata": {},
   "source": [
    "## <font color=\"brown\">計算樹木</font>\n",
    "\n",
    "<b>Tech</b>\n",
    "<ol>\n",
    "    <li>Directory</li>\n",
    "    <li>File</li>\n",
    "    <li>Function</li>\n",
    "    <li>Loop</li>\n",
    "    <li>glob</li>\n",
    "    <li>set</li>\n",
    "    <li>sorted</li>\n",
    "    <li>Output handling</li>\n",
    "</ol>\n",
    "\n",
    "<b>Tasks</b>\n",
    "<ol>\n",
    "    <li>於 trees 目錄中，區分訓練集 (train)、測試集 (test) 計算各樹種 .jpg 檔數量，並將結果輸出至螢幕或 output.csv</li>\n",
    "    <li>在 test 資料夾新增空的資料夾 AA，同時在 train 資料夾新增空的資料夾 ZZ，結果是否依然正確？</li>\n",
    "    <li>建立 function 能夠彈性選擇將結果輸出至螢幕或檔案</li>\n",
    "</ol>\n",
    "\n",
    "<b>Output</b>\n",
    "\n",
    "<tt><font color='blue'>\n",
    ",AS,BJ,CC,DR,FM,KE,LF,MA,MI,MP,PC,RR,TC,TM<br>\n",
    "test,35,33,44,31,50,50,33,28,25,28,30,25,32,45<br>\n",
    "train,96,164,201,105,295,203,150,56,100,68,105,68,62,170<br>\n",
    "</font></tt>\n",
    "\n",
    "<b>Notes</b>\n",
    "\n",
    "<ol>\n",
    "    <li>'train', 'test', 'AS', 'BJ'... 等不得寫死，須以程式取得</li>\n",
    "    <li>AS: 黑板樹, BJ: 茄冬, CC: 樟樹, DR: 鳳凰木, FM: 榕樹, KE: 台灣欒樹, LF: 楓香, MA: 苦楝, MI: 白千層, MP: 水黃皮, PC: 阿勃勒, RR: 大王椰子, TC: 大葉欖仁, TM: 小葉欖仁</li>\n",
    "</ol>"
   ]
  },
  {
   "cell_type": "code",
   "execution_count": 216,
   "id": "bd35fe74",
   "metadata": {},
   "outputs": [
    {
     "name": "stdout",
     "output_type": "stream",
     "text": [
      ",AS,BJ,CC,DR,FM,KE,LF,MA,MI,MP,PC,RR,TC,TM\n"
     ]
    },
    {
     "ename": "TypeError",
     "evalue": "'str' object is not callable",
     "output_type": "error",
     "traceback": [
      "\u001b[31m---------------------------------------------------------------------------\u001b[39m",
      "\u001b[31mTypeError\u001b[39m                                 Traceback (most recent call last)",
      "\u001b[36mCell\u001b[39m\u001b[36m \u001b[39m\u001b[32mIn[216]\u001b[39m\u001b[32m, line 53\u001b[39m\n\u001b[32m     51\u001b[39m \u001b[38;5;28mprint\u001b[39m(\u001b[33m'\u001b[39m\u001b[33m,\u001b[39m\u001b[33m'\u001b[39m + \u001b[33m'\u001b[39m\u001b[33m,\u001b[39m\u001b[33m'\u001b[39m.join(target_columns))\n\u001b[32m     52\u001b[39m \u001b[38;5;28;01mfor\u001b[39;00m dir1 \u001b[38;5;129;01min\u001b[39;00m \u001b[38;5;28msorted\u001b[39m(table.keys()):\n\u001b[32m---> \u001b[39m\u001b[32m53\u001b[39m     row = [dir1] + [\u001b[38;5;28;43mstr\u001b[39;49m\u001b[43m(\u001b[49m\u001b[43mtable\u001b[49m\u001b[43m[\u001b[49m\u001b[43mdir1\u001b[49m\u001b[43m]\u001b[49m\u001b[43m.\u001b[49m\u001b[43mget\u001b[49m\u001b[43m(\u001b[49m\u001b[43mcol\u001b[49m\u001b[43m,\u001b[49m\u001b[43m \u001b[49m\u001b[32;43m0\u001b[39;49m\u001b[43m)\u001b[49m\u001b[43m)\u001b[49m \u001b[38;5;28;01mfor\u001b[39;00m col \u001b[38;5;129;01min\u001b[39;00m target_columns]\n\u001b[32m     54\u001b[39m     \u001b[38;5;28mprint\u001b[39m(\u001b[33m'\u001b[39m\u001b[33m,\u001b[39m\u001b[33m'\u001b[39m.join(row))\n",
      "\u001b[31mTypeError\u001b[39m: 'str' object is not callable"
     ]
    }
   ],
   "source": [
    "import os\n",
    "import glob\n",
    "from collections import defaultdict\n",
    "\n",
    "#{'dir1':'test':'dir2':'AS', 'jpg_cnt':2]}\n",
    "\n",
    "base_path = 'trees'\n",
    "\n",
    "list_dir = os.listdir(path)\n",
    "\n",
    "\n",
    "dict_tmp = []\n",
    "\n",
    "for i in range(len(list_dir)):\n",
    "    #print(list_dir[i])\n",
    "    sub_path = os.path.join(base_path, list_dir[i])\n",
    "\n",
    "\n",
    "    list_dir_sub =  os.listdir(sub_path)\n",
    "    #print(list_dir_sub)\n",
    "    for j in range(len(list_dir_sub)):\n",
    "        file_path = os.path.join(sub_path, list_dir_sub[j])\n",
    "        #print(file_path)\n",
    "        glob_pattern = base_path + '/' + list_dir[i] + '/' + list_dir_sub[j] + '/' + '*.jpg'\n",
    "        #print(glob_pattern)\n",
    "        jpg_files = glob.glob(glob_pattern)\n",
    "        \n",
    "        item = {\n",
    "            'dir1': list_dir[i],\n",
    "            'dir2': list_dir_sub[j],\n",
    "            'jpg_cnt': len(jpg_files)\n",
    "        }\n",
    "\n",
    "        dict_tmp.append(item)\n",
    "\n",
    "    #dict_tmp \n",
    "    \n",
    "    \n",
    "#for item in dict_tmp:\n",
    "#    print(item)\n",
    "\n",
    "dir2_set = set(item['dir2'] for item in dict_tmp)\n",
    "target_columns = sorted(dir2_set)\n",
    "\n",
    "# 整理成 dict[dir1][dir2] = count\n",
    "table = defaultdict(dict)\n",
    "for item in dict_tmp:\n",
    "    table[item['dir1']][item['dir2']] = item['jpg_cnt']\n",
    "\n",
    "# ✅ 輸出表格\n",
    "print(',' + ','.join(target_columns))\n",
    "for dir1 in sorted(table.keys()):\n",
    "    row = [dir1] + [str(table[dir1].get(col, 0)) for col in target_columns]\n",
    "    print(','.join(row))"
   ]
  },
  {
   "cell_type": "code",
   "execution_count": 45,
   "id": "330ce056",
   "metadata": {},
   "outputs": [],
   "source": [
    "import os\n",
    "import glob\n",
    "\n",
    "def output(root_path, file=None):\n",
    "    \n",
    "    dset = os.listdir(root)\n",
    "    cat_printed = False\n",
    "    set_cats = set()\n",
    "    f = open('output.csv', 'w', encoding='utf-8')\n",
    "\n",
    "\n",
    "    for subdir1 in dset:\n",
    "        set_cats |= set(os.listdir(os.path.join(root,subdir1)))\n",
    "\n",
    "    set_cats= sorted(set_cats)\n",
    "    print(','+','.join(set_cats), file=f)\n",
    "\n",
    "\n",
    "\n",
    "    for subdir1 in dset:\n",
    "        #print('---',subdir1)\n",
    "        if not os.path.isdir( os.path.join(root,subdir1)):\n",
    "            continue\n",
    "        cats = os.listdir(os.path.join(root,subdir1))\n",
    "        if not cat_printed:\n",
    "            ##print(','+','.join(cats))\n",
    "            cat_printed = True\n",
    "\n",
    "        listFileCount = []\n",
    "        \n",
    "        ##for subdir2 in cats:\n",
    "        for subdir2 in set_cats:\n",
    "            filecount = len(glob.glob(os.path.join(root,subdir1, subdir2, '*.[jJ][pP][gG]')))\n",
    "            listFileCount.append(filecount)\n",
    "            #print(subdir2, filecount)\n",
    "        print(subdir1+','+','.join([str(i) for i in listFileCount]), file=f)\n",
    "        #print(subdir1+','+','.join([str(i) for i in listFileCount]), file=f)\n",
    "\n",
    "    if file:\n",
    "        f.close()\n",
    "\n",
    "root = 'trees'\n",
    "#output(root)\n",
    "output(root, 'test.csv')\n",
    "#print(','+','.join(cats)) \n",
    "\n"
   ]
  },
  {
   "cell_type": "code",
   "execution_count": 23,
   "id": "3693d24e",
   "metadata": {},
   "outputs": [],
   "source": [
    "with open('test.csv', 'w', encoding='utf-8') as f:\n",
    "    #f.write('hello test\\n')\n",
    "    #f.write('hello test2\\n')\n",
    "    print('[print]hello test', file=f)\n",
    "    print('[print]hello test', file=f)"
   ]
  },
  {
   "cell_type": "code",
   "execution_count": 28,
   "id": "bbf6a5a7",
   "metadata": {},
   "outputs": [
    {
     "name": "stdout",
     "output_type": "stream",
     "text": [
      "['AS', 'BJ', 'CC', 'DR', 'FM', 'KE', 'LF', 'MA', 'MI', 'MP', 'PC', 'RR', 'TC', 'TM', 'ZZ', '新增資料夾']\n"
     ]
    }
   ],
   "source": [
    "import os\n",
    "import glob\n",
    "\n",
    "root = 'trees'\n",
    "dset = os.listdir(root)\n",
    "set_cats = set()\n",
    "\n",
    "for subdir1 in dset:\n",
    "    set_cats |= set(os.listdir(os.path.join(root,subdir1)))\n",
    "\n",
    "set_cats= sorted(set_cats)\n",
    "print(set_cats)"
   ]
  },
  {
   "cell_type": "code",
   "execution_count": 35,
   "id": "cded7b30",
   "metadata": {},
   "outputs": [
    {
     "name": "stdout",
     "output_type": "stream",
     "text": [
      "<function count at 0x000002AE9824B560>\n"
     ]
    }
   ],
   "source": [
    "def count(root, file=None):\n",
    "    ...\n",
    "    \n",
    "print(count)\n",
    "root_path = 'trees'\n",
    "count(root_path, 'hello.csv')\n",
    "count(root_path)"
   ]
  },
  {
   "cell_type": "markdown",
   "id": "dccd25a6-9df9-49b4-b7be-abcffd36bc40",
   "metadata": {},
   "source": [
    "## <div id=\"ftd\"><font color=\"blue\">12. 容錯設計</font></div>"
   ]
  },
  {
   "cell_type": "markdown",
   "id": "b510ae1a-149a-4d7f-82d9-af3988b2461e",
   "metadata": {},
   "source": [
    "## <font color=\"brown\">猜數字</font>\n",
    "\n",
    "<b>Tech</b>\n",
    "<ol>\n",
    "    <li>Function</li>\n",
    "    <li>Loop</li>\n",
    "    <li>input</li>\n",
    "    <li>str</li>\n",
    "    <li>Falut tolerance design</li>\n",
    "</ol>\n",
    "\n",
    "<b>Tasks</b>\n",
    "<ol>\n",
    "    <li>製作猜數字遊戲，由電腦隨機出 4 個不同數字讓用戶猜，每次用戶猜測的 4 個數字會由電腦輸出 ?A?B 的結果；每個遊戲在用戶完全猜對 (4A0B) 或猜測 10 次之後結束</li>\n",
    "    <li>程式需自訂 function，並做容錯處理</li>\n",
    "</ol>\n",
    "\n",
    "\n",
    "<b>Output</b>\n",
    "\n",
    "<tt>\n",
    "round&nbsp;&nbsp;1 請猜4個數字 1234<br>\n",
    "round&nbsp;&nbsp;1: 0A 1B<br>\n",
    "round&nbsp;&nbsp;2 請猜4個數字 245 0<br>\n",
    "輸入錯誤<br>\n",
    "round&nbsp;&nbsp;3 請猜4個數字 99aa</br>\n",
    "輸入錯誤<br>\n",
    "round&nbsp;&nbsp;4 請猜4個數字   2 3 45<br>\n",
    "round&nbsp;&nbsp;4: 0A 2B<br>\n",
    "round&nbsp;&nbsp;5 請猜4個數字 2322<br>\n",
    "輸入錯誤<br>\n",
    "round&nbsp;&nbsp;6 請猜4個數字 7013<br>\n",
    "round&nbsp;&nbsp;6: 1A 0B<br>\n",
    "round&nbsp;&nbsp;7 請猜4個數字 AAAd<br>\n",
    "輸入錯誤<br>\n",
    "round&nbsp;&nbsp;8 請猜4個數字 7592<br>\n",
    "round&nbsp;&nbsp;8: 2A 2B<br>\n",
    "round&nbsp;&nbsp;9 請猜4個數字 7529<br>\n",
    "round&nbsp;&nbsp;9: 4A\n",
    "</tt>"
   ]
  },
  {
   "cell_type": "code",
   "execution_count": 1,
   "id": "36bd8c53",
   "metadata": {},
   "outputs": [
    {
     "name": "stdout",
     "output_type": "stream",
     "text": [
      "numbers: [7, 8, 6, 3]\n",
      "attempts: 0\n"
     ]
    },
    {
     "name": "stdout",
     "output_type": "stream",
     "text": [
      "請猜4個數字 lkdd\n"
     ]
    },
    {
     "name": "stdout",
     "output_type": "stream",
     "text": [
      "輸入錯誤:包含非數字\n",
      "attempts: 0\n"
     ]
    },
    {
     "name": "stdout",
     "output_type": "stream",
     "text": [
      "請猜4個數字 1234\n"
     ]
    },
    {
     "name": "stdout",
     "output_type": "stream",
     "text": [
      "list_user_in: ['1', '2', '3', '4']\n",
      "0A1B\n",
      "attempts: 1\n"
     ]
    },
    {
     "name": "stdout",
     "output_type": "stream",
     "text": [
      "請猜4個數字 2345\n"
     ]
    },
    {
     "name": "stdout",
     "output_type": "stream",
     "text": [
      "list_user_in: ['2', '3', '4', '5']\n",
      "0A1B\n",
      "attempts: 2\n"
     ]
    },
    {
     "name": "stdout",
     "output_type": "stream",
     "text": [
      "請猜4個數字 1567\n"
     ]
    },
    {
     "name": "stdout",
     "output_type": "stream",
     "text": [
      "list_user_in: ['1', '5', '6', '7']\n",
      "1A1B\n"
     ]
    }
   ],
   "source": [
    "import random\n",
    "\n",
    "def generate_numbers():\n",
    "    numbers = random.sample(range(1, 10), k=numbers_cnt)\n",
    "    return numbers\n",
    "\n",
    "def valid_input(user_input):\n",
    "    msg = ''\n",
    "    if len(user_input) != 4:\n",
    "        msg='輸入錯誤:超過4個數字'\n",
    "    elif user_input.isdigit() == False:\n",
    "        msg='輸入錯誤:包含非數字'\n",
    "    elif len(set(user_input)) != 4:\n",
    "        msg='輸入錯誤:包含重複數字'\n",
    "    else:\n",
    "        msg = ''\n",
    "    return msg\n",
    "\n",
    "numbers_cnt = 4\n",
    "numbers = generate_numbers()\n",
    "print(f'numbers: {numbers}')\n",
    "\n",
    "attempts = 0\n",
    "while attempts  < 3:\n",
    "\n",
    "\n",
    "    cnt_A = 0\n",
    "    cnt_B = 0\n",
    "\n",
    "    print(f'attempts: {attempts}')    \n",
    "    user_in = input(f'請猜{numbers_cnt}個數字')\n",
    "    user_in_no_space = user_in.replace(' ', '')\n",
    "    msg = valid_input(user_in_no_space)\n",
    "    if  msg != '':\n",
    "        print(msg)\n",
    "        continue\n",
    "\n",
    "    \n",
    "    list_user_in = list(user_in_no_space)\n",
    "    print(f'list_user_in: {list_user_in}')\n",
    "\n",
    "    for i in range(numbers_cnt):\n",
    "        #print(f'list_user_in[i]{list_user_in[i]}')\n",
    "        #print(f'numbers[i]{numbers[i]}')\n",
    "        if int(list_user_in[i]) == numbers[i]:\n",
    "            cnt_A += 1\n",
    "\n",
    "    for i in range(numbers_cnt):\n",
    "        if int(list_user_in[i]) in numbers and int(list_user_in[i]) != numbers[i]:\n",
    "            cnt_B += 1\n",
    "\n",
    "\n",
    "    print(f'{cnt_A}A{cnt_B}B')\n",
    "    \n",
    "    if cnt_A == numbers_cnt:\n",
    "        break        \n",
    "\n",
    "    attempts += 1\n",
    "\n",
    "\n",
    "   "
   ]
  },
  {
   "cell_type": "code",
   "execution_count": 117,
   "id": "4c5c10b7",
   "metadata": {},
   "outputs": [
    {
     "name": "stdout",
     "output_type": "stream",
     "text": [
      "[6, 8, 2, 9]\n"
     ]
    }
   ],
   "source": [
    "import random\n",
    "\n",
    "game = random.sample(range(10), k=4)\n",
    "print(game)"
   ]
  },
  {
   "cell_type": "code",
   "execution_count": null,
   "id": "116395e0",
   "metadata": {},
   "outputs": [],
   "source": [
    "# guess\n",
    "# check input\n",
    "# judge ?A?B\n",
    "# go back"
   ]
  },
  {
   "cell_type": "code",
   "execution_count": 118,
   "id": "5dfa6e53",
   "metadata": {},
   "outputs": [
    {
     "name": "stdout",
     "output_type": "stream",
     "text": [
      "6581\n"
     ]
    }
   ],
   "source": [
    "# guess\n",
    "guess = input('猜數字')\n",
    "print(guess)"
   ]
  },
  {
   "cell_type": "code",
   "execution_count": 122,
   "id": "608de954",
   "metadata": {},
   "outputs": [
    {
     "name": "stdout",
     "output_type": "stream",
     "text": [
      "[1, 2, 3, 4]\n"
     ]
    }
   ],
   "source": [
    "# check\n",
    "guess = '1234'\n",
    "guess = [int(i) for i in guess]\n",
    "print(guess)"
   ]
  },
  {
   "cell_type": "code",
   "execution_count": 124,
   "id": "c628b7b8",
   "metadata": {},
   "outputs": [
    {
     "name": "stdout",
     "output_type": "stream",
     "text": [
      "0A1B\n"
     ]
    }
   ],
   "source": [
    "# judge\n",
    "a = b = 0\n",
    "for i in range(len(game)):\n",
    "    if game[i] == guess[i]:\n",
    "        a += 1\n",
    "    else:\n",
    "        if game[i] in guess:\n",
    "            b += 1\n",
    "\n",
    "print(f'{a}A{b}B')"
   ]
  },
  {
   "cell_type": "code",
   "execution_count": 130,
   "id": "abc05dd5",
   "metadata": {},
   "outputs": [
    {
     "name": "stdout",
     "output_type": "stream",
     "text": [
      "[7, 6, 5, 1]\n"
     ]
    }
   ],
   "source": [
    "# guess\n",
    "#guess = input('猜數字')\n",
    "guess = '7651'\n",
    "\n",
    "if not guess.isdigit() or len(guess) != len(game) or len(set(guess)) != len(game):\n",
    "    print('input error')\n",
    "\n",
    "guess = [int(i) for i in guess]\n",
    "print(guess)"
   ]
  },
  {
   "cell_type": "code",
   "execution_count": 147,
   "id": "532405b9",
   "metadata": {},
   "outputs": [
    {
     "name": "stdout",
     "output_type": "stream",
     "text": [
      "[8, 6, 7, 2]\n",
      "0A1B\n",
      "0A1B\n",
      "0A1B\n"
     ]
    }
   ],
   "source": [
    "import random\n",
    "\n",
    "def new(digit=4):\n",
    "    return random.sample(range(10), k=digit)\n",
    "\n",
    "def extract(guess: str) -> str | list:\n",
    "    guess = guess.replace(' ','')\n",
    "    if not guess.isdigit():\n",
    "        return 'alphabet included'\n",
    "    if len(guess) != len(game):\n",
    "        return 'length not match'\n",
    "    if len(set(guess)) != len(game):\n",
    "        return 'duplicate digit'\n",
    "    # if not guess.isdigit() or len(guess) != len(game) or len(set(guess)) != len(game):\n",
    "    #     #print('input error')\n",
    "    #     return None\n",
    "    return [int(i) for i in guess]\n",
    "\n",
    "def judge(game: list, guess: list) -> tuple:\n",
    "    a = b = 0\n",
    "    for i in range(len(game)):\n",
    "        if game[i] == guess[i]:\n",
    "            a += 1\n",
    "        else:\n",
    "            if game[i] in guess:\n",
    "                b += 1\n",
    "\n",
    "    return a, b\n",
    "\n",
    "\n",
    "game = new()\n",
    "print(game)\n",
    "\n",
    "for i in range(3):\n",
    "    guess = input('run {i} 猜數字')\n",
    "    guess = extract(guess)\n",
    "    #if not guess:\n",
    "    if type(guess) == str:\n",
    "        print(guess)\n",
    "        continue\n",
    "\n",
    "    a, b = judge(game, guess)\n",
    "    print(f'{a}A{b}B')\n",
    "\n",
    "    if a == 4:\n",
    "        print('you win')\n",
    "        break"
   ]
  },
  {
   "cell_type": "markdown",
   "id": "4c7c1a80-4b90-4e3e-a022-f5e106769148",
   "metadata": {},
   "source": [
    "## <div id=\"cd\"><font color=\"blue\">13. 類別設計</font></div>"
   ]
  },
  {
   "cell_type": "markdown",
   "id": "e0ab0269-86d6-43a6-beb7-4b94ea919c7a",
   "metadata": {},
   "source": [
    "## <font color=\"brown\">大老二莊家</font>\n",
    "\n",
    "<b>Tech</b>\n",
    "<ol>\n",
    "    <li>Class</li>\n",
    "    <li>Loop</li>\n",
    "    <li>input</li>\n",
    "    <li>str</li>\n",
    "</ol>\n",
    "\n",
    "<b>Tasks</b>\n",
    "<ol>\n",
    "    <li>設計並建立大老二莊家類別，能夠洗牌，發牌，並能夠依大老二規則比較卡牌大小</li>\n",
    "</ol>\n",
    "\n",
    "<b>Usage</b>"
   ]
  },
  {
   "cell_type": "code",
   "execution_count": null,
   "id": "746f33ac-4ffe-45f6-86d3-429990028c4d",
   "metadata": {},
   "outputs": [],
   "source": [
    "dealer = Dealer()\n",
    "a, b = dealer.deal(2)\n",
    "print(f'{a} vs {b}')\n",
    "print(dealer.win(a, b), 'win')"
   ]
  },
  {
   "cell_type": "code",
   "execution_count": null,
   "id": "ee6c3a86",
   "metadata": {},
   "outputs": [
    {
     "name": "stdout",
     "output_type": "stream",
     "text": [
      "[(4, 2), (8, 2), (5, 0)]\n",
      "[(4, 2), (8, 2), (5, 0), (7, 1), (4, 3), (10, 2), (2, 0), (11, 0), (7, 0), (3, 2), (6, 1), (4, 0), (0, 3), (6, 3), (3, 0), (12, 2), (3, 1), (7, 2), (5, 2), (3, 3), (0, 1), (2, 2), (6, 0), (8, 3), (4, 1), (0, 2), (1, 2), (5, 1), (8, 0), (12, 1), (1, 3), (1, 0), (1, 1), (11, 1), (6, 2), (8, 1), (9, 3), (10, 3), (2, 3), (10, 0), (7, 3), (10, 1), (12, 3), (9, 1), (9, 0), (2, 1), (11, 2), (12, 0), (0, 0), (9, 2), (11, 3), (5, 3)]\n",
      "[(0, 0), (0, 1), (0, 2), (0, 3), (1, 0), (1, 1), (1, 2), (1, 3), (2, 0), (2, 1), (2, 2), (2, 3), (3, 0), (3, 1), (3, 2), (3, 3), (4, 0), (4, 1), (4, 2), (4, 3), (5, 0), (5, 1), (5, 2), (5, 3), (6, 0), (6, 1), (6, 2), (6, 3), (7, 0), (7, 1), (7, 2), (7, 3), (8, 0), (8, 1), (8, 2), (8, 3), (9, 0), (9, 1), (9, 2), (9, 3), (10, 0), (10, 1), (10, 2), (10, 3), (11, 0), (11, 1), (11, 2), (11, 3), (12, 0), (12, 1), (12, 2), (12, 3)]\n",
      "player0:DIAMOND J\n",
      "player1:DIAMOND 7\n",
      "player2:SPADE 10\n"
     ]
    }
   ],
   "source": [
    "import random\n",
    "\n",
    "poker_nums = ['2', 'A', 'K', 'Q', 'J', '10', '9', '8', '7', '6', '5', '4', '3']\n",
    "poker_suits = ['SPADE', 'HEART', 'DIAMOND', 'CLUB' ]\n",
    "list_cards = [(i,j) for i in range(len(poker_nums)) for j in range(len(poker_suits))]\n",
    "list_cards_copy = list_cards.copy()\n",
    "player_cnt = 3\n",
    "\n",
    "class Dealer():\n",
    "    def dealCards(self, list_cards, player_cnt):\n",
    "        random.shuffle(list_cards)\n",
    "        #print(list_cards[:player_cnt])\n",
    "        return list_cards[:player_cnt]\n",
    "    def showCard(self, list_player_card):\n",
    "        player_card_num = poker_nums[list_player_card[0]]\n",
    "        player_card_suit = poker_suits[list_player_card[1]]\n",
    "        return player_card_suit+\" \"+player_card_num\n",
    "    #def win(self, list_player_card):\n",
    "        \n",
    "\n",
    "dealer = Dealer()\n",
    "list_players =  dealer.dealCards(list_cards, player_cnt)\n",
    "print(list_players)\n",
    "\n",
    "\n",
    "for i in range(len(list_players)):\n",
    "    print(f'player{i}:{dealer.showCard(list_players[i])}')\n",
    "\n"
   ]
  },
  {
   "cell_type": "markdown",
   "id": "32021d58-766c-4573-bdb5-103068a627ec",
   "metadata": {},
   "source": [
    "<tt>\n",
    "('CLUB', '7') vs ('HEART', '9')<br>\n",
    "('HEART', '9') win\n",
    "</tt>"
   ]
  },
  {
   "cell_type": "code",
   "execution_count": null,
   "id": "4bef98ef",
   "metadata": {},
   "outputs": [],
   "source": [
    "NUMBERS = ['2', 'A', 'K', 'Q', 'J', '10', '9', '8', '7', '6', '5', '4', '3']\n",
    "SUITES = ['SPADE', 'HEART', 'DIAMOND', 'CLUB' ]\n",
    "\n",
    "standard = [(s,n) for n in NUMBERS for s in SUITES]\n",
    "cards = standard.copy()"
   ]
  },
  {
   "cell_type": "code",
   "execution_count": null,
   "id": "150b74f0",
   "metadata": {},
   "outputs": [
    {
     "name": "stdout",
     "output_type": "stream",
     "text": [
      "('DIAMOND', 'Q') vs ('SPADE', 'A')\n",
      "('SPADE', 'A')\n"
     ]
    }
   ],
   "source": [
    "import random\n",
    "\n",
    "class Dealer:\n",
    "    \n",
    "    NUMBERS = ['2', 'A', 'K', 'Q', 'J', '10', '9', '8', '7', '6', '5', '4', '3']\n",
    "    SUITES = ['SPADE', 'HEART', 'DIAMOND', 'CLUB' ]\n",
    "    \n",
    "    def __init__(self):\n",
    "        #print(f'self id is {id(self)}')\n",
    "        __class__.standard = [(s,n) for n in NUMBERS for s in SUITES]\n",
    "        self.cards = __class__.standard.copy()\n",
    "        random.shuffle(self.cards)\n",
    "\n",
    "    def deal(self, n=2):\n",
    "        if len(self.cards) >= n:\n",
    "            cards = self.cards[:n]\n",
    "            self.cards = self.cards[:n]\n",
    "            return cards\n",
    "        \n",
    "    def __len__(self):\n",
    "        return len(self.cards)\n",
    "    \n",
    "    def __str__(self):\n",
    "        return 'i am a dealer'\n",
    "    \n",
    "    def win(self, a, b):\n",
    "        a_index = __class__.standard.index(a)\n",
    "        b_index = __class__.standard.index(b)\n",
    "        if a_index < b_index:\n",
    "            return a\n",
    "        if b_index < a_index:\n",
    "            return b\n",
    "\n",
    "\n",
    "\n",
    "# = Dealer()\n",
    "#dir(a)\n",
    "#dir(Dealer)\n",
    "#a.deal(40)\n",
    "#len(a)\n",
    "#print(a)\n",
    "\n",
    "dealer = Dealer()\n",
    "a, b = dealer.deal(2)\n",
    "print(f'{a} vs {b}')\n",
    "print(dealer.win(a, b), 'win')\n",
    "\n",
    "\n",
    "\n"
   ]
  },
  {
   "cell_type": "code",
   "execution_count": null,
   "id": "262cb7b2",
   "metadata": {},
   "outputs": [
    {
     "ename": "AttributeError",
     "evalue": "'tuple' object has no attribute 'deal'",
     "output_type": "error",
     "traceback": [
      "\u001b[31m---------------------------------------------------------------------------\u001b[39m",
      "\u001b[31mAttributeError\u001b[39m                            Traceback (most recent call last)",
      "\u001b[36mCell\u001b[39m\u001b[36m \u001b[39m\u001b[32mIn[168]\u001b[39m\u001b[32m, line 1\u001b[39m\n\u001b[32m----> \u001b[39m\u001b[32m1\u001b[39m \u001b[43ma\u001b[49m\u001b[43m.\u001b[49m\u001b[43mdeal\u001b[49m(\u001b[32m40\u001b[39m)\n",
      "\u001b[31mAttributeError\u001b[39m: 'tuple' object has no attribute 'deal'"
     ]
    }
   ],
   "source": []
  },
  {
   "cell_type": "code",
   "execution_count": null,
   "id": "e3c3e561",
   "metadata": {},
   "outputs": [],
   "source": []
  },
  {
   "cell_type": "markdown",
   "id": "24bd44dd-2ca1-4099-a0e5-1769dd4b8449",
   "metadata": {},
   "source": [
    "<b>Tasks</b>\n",
    "<ol>\n",
    "    <li value=\"2\">分別建立莊家與大老二卡牌兩個類別，莊家能夠洗牌，發牌，並以大老二卡牌類別的比較運算子依大老二規則比較大小</li>\n",
    "</ol>\n",
    "\n",
    "<b>Usage</b>"
   ]
  },
  {
   "cell_type": "code",
   "execution_count": null,
   "id": "2719ad7c-3921-4993-a84a-7ad9c6d08eb9",
   "metadata": {},
   "outputs": [],
   "source": [
    "dealer = Dealer()\n",
    "a, b = dealer.deal(2)\n",
    "print(f'{a} vs {b}')\n",
    "print(f'{a} <  {b}: {a < b}')\n",
    "print(f'{a} == {b}: {a == b}')\n",
    "print(f'{a} >= {b}: {a >= b}')"
   ]
  },
  {
   "cell_type": "markdown",
   "id": "d2124f0c-18f4-4ffa-b5ff-3cf5d647e8aa",
   "metadata": {},
   "source": [
    "<tt>\n",
    "&lt;DIAMOND, Q&gt; vs &lt;HEART, J&gt;<br>\n",
    "&lt;DIAMOND, Q&gt; < &nbsp;&lt;HEART, J&gt;: False<br>\n",
    "&lt;DIAMOND, Q&gt; == &lt;HEART, J&gt;: False<br>\n",
    "&lt;DIAMOND, Q&gt; >= &lt;HEART, J&gt;: True<br>\n",
    "</tt>\n",
    "\n",
    "<br>\n",
    "\n",
    "<b>Hints</b>\n",
    "\n",
    "<ol><tt>\n",
    "    <li><font color=\"green\">__lt__()</font></li>\n",
    "    <li><font color=\"green\">__le__()</font></li>\n",
    "    <li><font color=\"green\">__gt__()</font></li>\n",
    "    <li><font color=\"green\">__ge__()</font></li>\n",
    "    <li><font color=\"green\">__eq__()</font></li>\n",
    "    <li><font color=\"green\">__len__()</font></li>\n",
    "    <li><font color=\"green\">__str__()</font></li>\n",
    "</tt></ol>"
   ]
  },
  {
   "cell_type": "code",
   "execution_count": null,
   "id": "4e9dfe37",
   "metadata": {},
   "outputs": [
    {
     "name": "stdout",
     "output_type": "stream",
     "text": [
      "list_cards 1= [(0, 0), (0, 1), (0, 2), (0, 3), (1, 0), (1, 1), (1, 2), (1, 3), (2, 0), (2, 1), (2, 2), (2, 3), (3, 0), (3, 1), (3, 2), (3, 3), (4, 0), (4, 1), (4, 2), (4, 3), (5, 0), (5, 1), (5, 2), (5, 3), (6, 0), (6, 1), (6, 2), (6, 3), (7, 0), (7, 1), (7, 2), (7, 3), (8, 0), (8, 1), (8, 2), (8, 3), (9, 0), (9, 1), (9, 2), (9, 3), (10, 0), (10, 1), (10, 2), (10, 3), (11, 0), (11, 1), (11, 2), (11, 3), (12, 0), (12, 1), (12, 2), (12, 3)]\n",
      "list_cards 2= [(0, 0), (0, 1), (0, 2), (0, 3), (1, 0), (1, 1), (1, 2), (1, 3), (2, 0), (2, 1), (2, 2), (2, 3), (3, 0), (3, 1), (3, 2), (3, 3), (4, 0), (4, 1), (4, 2), (4, 3), (5, 0), (5, 1), (5, 2), (5, 3), (6, 0), (6, 1), (6, 2), (6, 3), (7, 0), (7, 1), (7, 2), (7, 3), (8, 0), (8, 1), (8, 2), (8, 3), (9, 0), (9, 1), (9, 2), (9, 3), (10, 0), (10, 1), (10, 2), (10, 3), (11, 0), (11, 1), (11, 2), (11, 3), (12, 0), (12, 1), (12, 2), (12, 3)]\n",
      "list_shuffled_cards= [(0, 2), (6, 1), (3, 3), (7, 1), (8, 1), (9, 3), (3, 0), (12, 3), (1, 2), (12, 0), (8, 2), (10, 2), (11, 1), (3, 1), (3, 2), (7, 0), (12, 1), (10, 1), (0, 3), (6, 0), (2, 0), (8, 0), (10, 0), (4, 3), (9, 1), (6, 2), (6, 3), (8, 3), (1, 1), (5, 3), (5, 1), (7, 2), (0, 0), (9, 0), (4, 0), (4, 2), (12, 2), (11, 2), (9, 2), (11, 3), (10, 3), (2, 3), (4, 1), (0, 1), (11, 0), (7, 3), (5, 0), (1, 0), (2, 1), (5, 2), (1, 3), (2, 2)]\n",
      "list_players= [(0, 2), (6, 1), (3, 3)]\n"
     ]
    }
   ],
   "source": [
    "\n"
   ]
  },
  {
   "cell_type": "markdown",
   "id": "af171f55-7880-4f19-af77-e01954afe91e",
   "metadata": {},
   "source": [
    "## <div id=\"alg\"><font color=\"blue\">14. 演算法演練</font></div>"
   ]
  },
  {
   "cell_type": "markdown",
   "id": "929ae03f-b809-4b18-a2fc-c0017a091aee",
   "metadata": {},
   "source": [
    "## <font color=\"brown\">Move Zeros</font>\n",
    "\n",
    "<b>Tech</b>\n",
    "<ol>\n",
    "    <li>Loop</li>\n",
    "    <li>list</li>\n",
    "    <li>Algorithm</li>\n",
    "</ol>\n",
    "\n",
    "<b>Tasks</b>\n",
    "<ol>\n",
    "    <li>實作 LeetCode > Top Interview Questions > Easy Collection > Array > Move Zeros</li>\n",
    "</ol>"
   ]
  },
  {
   "cell_type": "markdown",
   "id": "dbe4275d-1853-452b-b6aa-0372fffab6f9",
   "metadata": {},
   "source": [
    "## <div id=\"alg2\"><font color=\"blue\">15. 演算法挑戰</font></div>"
   ]
  },
  {
   "cell_type": "markdown",
   "id": "401c4da4-d525-4b86-9b23-0d0c14d306df",
   "metadata": {},
   "source": [
    "## <font color=\"brown\">Best Time to Buy and Sell Stock</font>\n",
    "\n",
    "<b>Tech</b>\n",
    "<ol>\n",
    "    <li>Loop</li>\n",
    "    <li>list</li>\n",
    "    <li>Algorithm</li>\n",
    "</ol>\n",
    "\n",
    "<b>Tasks</b>\n",
    "<ol>\n",
    "    <li>實作 LeetCode > Top Interview Questions > Easy Collection > Dynamic Programming > Best Time to Buy and Sell Stock</li>\n",
    "</ol>"
   ]
  },
  {
   "cell_type": "code",
   "execution_count": null,
   "id": "e7df2234-0179-4734-b1c5-13b891e07af3",
   "metadata": {},
   "outputs": [],
   "source": []
  }
 ],
 "metadata": {
  "kernelspec": {
   "display_name": "Python 3",
   "language": "python",
   "name": "python3"
  },
  "language_info": {
   "codemirror_mode": {
    "name": "ipython",
    "version": 3
   },
   "file_extension": ".py",
   "mimetype": "text/x-python",
   "name": "python",
   "nbconvert_exporter": "python",
   "pygments_lexer": "ipython3",
   "version": "3.13.0"
  }
 },
 "nbformat": 4,
 "nbformat_minor": 5
}
