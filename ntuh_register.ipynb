{
 "cells": [
  {
   "cell_type": "code",
   "execution_count": 5,
   "id": "503e9e02",
   "metadata": {},
   "outputs": [
    {
     "name": "stdout",
     "output_type": "stream",
     "text": [
      "辨識到的驗證碼：5LH219\n"
     ]
    }
   ],
   "source": [
    "from selenium import webdriver\n",
    "from selenium.webdriver.chrome.service import Service\n",
    "from selenium.webdriver.common.by import By\n",
    "from webdriver_manager.chrome import ChromeDriverManager\n",
    "\n",
    "from selenium.webdriver.support.ui import WebDriverWait\n",
    "from selenium.webdriver.support import expected_conditions as EC\n",
    "\n",
    "\n",
    "import json\n",
    "import time\n",
    "from PIL import Image\n",
    "import pytesseract\n",
    "\n",
    "# 網址\n",
    "url = 'https://reg.ntuh.gov.tw/WebReg/WebReg/RegForm?newx=ragAYc7bA-82FksG-C-VWyyQnG2KHgF-UZn2xVe5HkMkbKKP89YwgicPOPXK-c3nqkeeea-cXSwOIgGI5qaHsqMVeDwjcBvnShTgROIl2bgWpbuLQ7rco3sti4PnUG2UtBduQBZxX8hMugOMi6tQK66huYx6K_nslnC3HRSVdQs'\n",
    "\n",
    "# ➤ 如果你有安裝 tesseract.exe，但不是預設位置，請指定路徑：\n",
    "pytesseract.pytesseract.tesseract_cmd = r'C:\\Program Files\\Tesseract-OCR\\tesseract.exe'\n",
    "\n",
    "\n",
    "# 讀取資料\n",
    "#with open('ntuh_register_data.json', 'r', encoding='utf-8') as file:\n",
    "#    data = json.load(file)\n",
    "\n",
    "# 開啟瀏覽器\n",
    "service = Service(ChromeDriverManager().install())\n",
    "driver = webdriver.Chrome(service=service)\n",
    "# 新增這一行：建立 wait 物件\n",
    "wait = WebDriverWait(driver, 10)\n",
    "\n",
    "driver.get(url)\n",
    "\n",
    "# 稍等載入\n",
    "time.sleep(1)\n",
    "\n",
    "\n",
    "\n",
    "# 填值但不送出\n",
    "#driver.find_element(By.ID, \"txtInputID\").send_keys(data['data_id_number'])\n",
    "#driver.find_element(By.ID, \"year\").send_keys(data['data_date_year'])\n",
    "#driver.find_element(By.ID, \"month\").send_keys(data['data_date_mon'])\n",
    "#driver.find_element(By.ID, \"day\").send_keys(data['data_date_day'])\n",
    "\n",
    "# 填值但不送出\n",
    "driver.find_element(By.ID, \"txtInputID\").send_keys('A232960930')\n",
    "driver.find_element(By.ID, \"year\").send_keys(2018)\n",
    "driver.find_element(By.ID, \"month\").send_keys(8)\n",
    "driver.find_element(By.ID, \"day\").send_keys(1)\n",
    "\n",
    "\n",
    "# 抓驗證碼圖片\n",
    "captcha_img = driver.find_element(By.XPATH, \"//img[contains(@src, 'ValidNumerImage')]\")\n",
    "\n",
    "# 截圖儲存\n",
    "captcha_img.screenshot(\"captcha.png\")\n",
    "\n",
    "# 使用 pytesseract OCR 辨識圖片\n",
    "image = Image.open(\"captcha.png\")\n",
    "captcha_text = pytesseract.image_to_string(image, config='--psm 7').strip()\n",
    "print(f\"辨識到的驗證碼：{captcha_text}\")\n",
    "\n",
    "# 將辨識結果填入驗證碼欄位\n",
    "driver.find_element(By.ID, \"validText\").send_keys(captcha_text)\n",
    "\n",
    "\n",
    "# 等待按鈕可點擊\n",
    "submit_button = wait.until(EC.element_to_be_clickable((By.ID, \"patientIdentityConfirm\")))\n",
    "\n",
    "# 確保在畫面中\n",
    "driver.execute_script(\"arguments[0].scrollIntoView({block: 'center'});\", submit_button)\n",
    "time.sleep(1)\n",
    "\n",
    "# 強制使用 JavaScript 點擊\n",
    "driver.execute_script(\"arguments[0].click();\", submit_button)\n",
    "\n",
    "\n",
    "# 暫停 5 秒觀看效果\n",
    "time.sleep(5)\n",
    "driver.quit()\n",
    "\n"
   ]
  },
  {
   "cell_type": "code",
   "execution_count": null,
   "id": "e0edecb0",
   "metadata": {},
   "outputs": [],
   "source": [
    "!pip install selenium"
   ]
  },
  {
   "cell_type": "markdown",
   "id": "e4402d80",
   "metadata": {},
   "source": []
  },
  {
   "cell_type": "code",
   "execution_count": null,
   "id": "708f0d83",
   "metadata": {},
   "outputs": [],
   "source": [
    "!pip install pillow pytesseract selenium webdriver-manager"
   ]
  },
  {
   "cell_type": "code",
   "execution_count": null,
   "id": "35e2c47d",
   "metadata": {},
   "outputs": [],
   "source": [
    "!pip install webdriver-manager"
   ]
  }
 ],
 "metadata": {
  "kernelspec": {
   "display_name": "Python 3",
   "language": "python",
   "name": "python3"
  },
  "language_info": {
   "codemirror_mode": {
    "name": "ipython",
    "version": 3
   },
   "file_extension": ".py",
   "mimetype": "text/x-python",
   "name": "python",
   "nbconvert_exporter": "python",
   "pygments_lexer": "ipython3",
   "version": "3.13.0"
  }
 },
 "nbformat": 4,
 "nbformat_minor": 5
}
